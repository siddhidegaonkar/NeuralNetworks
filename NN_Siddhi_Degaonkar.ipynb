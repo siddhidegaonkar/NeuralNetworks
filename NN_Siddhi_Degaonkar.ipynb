{
 "cells": [
  {
   "cell_type": "markdown",
   "metadata": {},
   "source": [
    "# Assignment #4 - Neural Networks\n",
    "\n",
    "### <font color=\"red\"> DUE: Oct 29 (Tuesday) 11:00 pm </font>  "
   ]
  },
  {
   "cell_type": "markdown",
   "metadata": {},
   "source": [
    "<font color=\"blue\"> Siddhi Degaonkar </font>"
   ]
  },
  {
   "cell_type": "markdown",
   "metadata": {},
   "source": [
    "# I. Overview\n",
    "\n",
    "**Objective and approach**\n",
    "The Objective of Assignment#3 is to 5-fold cross validation to find a good neural network parameters including the structure to report the CV accuracies. Then use those good parameters for training neural networks. I have to use NeuralNet class on Diamond regression dataset. \n",
    "Then I have summarized  the nonlinear logistic regression model and finished the NeuralNetLogReg class.\n",
    "Applied the code with toy synthetic data and Bank-Marketing Classification Dataset.\n",
    "\n",
    "**Scope of Assignment**\n",
    "Assignment # 3 consist of:\n",
    "\n",
    "1. Introduction to Regression Data\n",
    "2. 5-fold Cross Validation\n",
    "3. Results of Cross Validation\n",
    "4. Nonlinear Regression\n",
    "5. Nonlinear Logistic Regression\n",
    "\n",
    "\n",
    "**Conclusion** is derived and **references** are presented.\n"
   ]
  },
  {
   "cell_type": "markdown",
   "metadata": {},
   "source": [
    "# II. Data"
   ]
  },
  {
   "cell_type": "markdown",
   "metadata": {},
   "source": [
    "# Regression Data"
   ]
  },
  {
   "cell_type": "markdown",
   "metadata": {},
   "source": [
    "* This classic dataset contains the prices and other attributes of almost 54,000 diamonds. It's a great dataset for beginners learning to work with data analysis and visualization.\n",
    "\n",
    "* Attributes if Dataset\n",
    "\n",
    "1. Carat : Carat weight of the Diamond.(0.2--5.01)\n",
    "2. Cut : Describe cut quality of the diamond.  Quality in increasing order Fair, Good, Very Good, Premium, Ideal .\n",
    "3. Color : Color of the Diamond.\n",
    "   With D being the best and J the worst.\n",
    "4. Clarity : Diamond Clarity refers to the absence of the Inclusions and Blemishes.\n",
    "   (In order from Best to Worst, FL = flawless, I3= level 3 inclusions) FL, IF, VVS1, VVS2, VS1, VS2, SI1, SI2, I1,      I2, I3\n",
    "5. Depth : The Height of a Diamond, measured from the Culet to the table, divided by its average Girdle Diameter.\n",
    "6. Table : The Width of the Diamond's Table expressed as a Percentage of its Average Diameter.\n",
    "7. Price : the Price of the Diamond. Price in US dollars (\\$326--\\$18,823)\n",
    "8.  X : Length of the Diamond in mm.(0--10.74)\n",
    "9. Y : Width of the Diamond in mm.(0--58.9)\n",
    "10. Z : Height of the Diamond in mm.(0--31.8)\n",
    "\n",
    "* Depth total depth percentage = z / mean(x, y) = 2 * z / (x + y) (43--79)\n",
    "\n",
    "* Table width of top of diamond relative to widest point (43--95)\n",
    "\n",
    "* Qualitative Features (Categorical) : Cut, Color, Clarity.\n",
    "\n",
    "* Quantitative Features (Numerical) : Carat, Depth , Table , Price , X , Y, Z.\n",
    "\n",
    "* Price is the **Target Variable**.\n",
    "\n",
    "**Source: Kaggle**"
   ]
  },
  {
   "cell_type": "code",
   "execution_count": 1,
   "metadata": {},
   "outputs": [
    {
     "data": {
      "text/html": [
       "<div>\n",
       "<style scoped>\n",
       "    .dataframe tbody tr th:only-of-type {\n",
       "        vertical-align: middle;\n",
       "    }\n",
       "\n",
       "    .dataframe tbody tr th {\n",
       "        vertical-align: top;\n",
       "    }\n",
       "\n",
       "    .dataframe thead th {\n",
       "        text-align: right;\n",
       "    }\n",
       "</style>\n",
       "<table border=\"1\" class=\"dataframe\">\n",
       "  <thead>\n",
       "    <tr style=\"text-align: right;\">\n",
       "      <th></th>\n",
       "      <th>Unnamed: 0</th>\n",
       "      <th>carat</th>\n",
       "      <th>cut</th>\n",
       "      <th>color</th>\n",
       "      <th>clarity</th>\n",
       "      <th>depth</th>\n",
       "      <th>table</th>\n",
       "      <th>price</th>\n",
       "      <th>x</th>\n",
       "      <th>y</th>\n",
       "      <th>z</th>\n",
       "    </tr>\n",
       "  </thead>\n",
       "  <tbody>\n",
       "    <tr>\n",
       "      <th>0</th>\n",
       "      <td>1</td>\n",
       "      <td>0.23</td>\n",
       "      <td>Ideal</td>\n",
       "      <td>E</td>\n",
       "      <td>SI2</td>\n",
       "      <td>61.5</td>\n",
       "      <td>55.0</td>\n",
       "      <td>326</td>\n",
       "      <td>3.95</td>\n",
       "      <td>3.98</td>\n",
       "      <td>2.43</td>\n",
       "    </tr>\n",
       "    <tr>\n",
       "      <th>1</th>\n",
       "      <td>2</td>\n",
       "      <td>0.21</td>\n",
       "      <td>Premium</td>\n",
       "      <td>E</td>\n",
       "      <td>SI1</td>\n",
       "      <td>59.8</td>\n",
       "      <td>61.0</td>\n",
       "      <td>326</td>\n",
       "      <td>3.89</td>\n",
       "      <td>3.84</td>\n",
       "      <td>2.31</td>\n",
       "    </tr>\n",
       "    <tr>\n",
       "      <th>2</th>\n",
       "      <td>3</td>\n",
       "      <td>0.23</td>\n",
       "      <td>Good</td>\n",
       "      <td>E</td>\n",
       "      <td>VS1</td>\n",
       "      <td>56.9</td>\n",
       "      <td>65.0</td>\n",
       "      <td>327</td>\n",
       "      <td>4.05</td>\n",
       "      <td>4.07</td>\n",
       "      <td>2.31</td>\n",
       "    </tr>\n",
       "    <tr>\n",
       "      <th>3</th>\n",
       "      <td>4</td>\n",
       "      <td>0.29</td>\n",
       "      <td>Premium</td>\n",
       "      <td>I</td>\n",
       "      <td>VS2</td>\n",
       "      <td>62.4</td>\n",
       "      <td>58.0</td>\n",
       "      <td>334</td>\n",
       "      <td>4.20</td>\n",
       "      <td>4.23</td>\n",
       "      <td>2.63</td>\n",
       "    </tr>\n",
       "    <tr>\n",
       "      <th>4</th>\n",
       "      <td>5</td>\n",
       "      <td>0.31</td>\n",
       "      <td>Good</td>\n",
       "      <td>J</td>\n",
       "      <td>SI2</td>\n",
       "      <td>63.3</td>\n",
       "      <td>58.0</td>\n",
       "      <td>335</td>\n",
       "      <td>4.34</td>\n",
       "      <td>4.35</td>\n",
       "      <td>2.75</td>\n",
       "    </tr>\n",
       "    <tr>\n",
       "      <th>5</th>\n",
       "      <td>6</td>\n",
       "      <td>0.24</td>\n",
       "      <td>Very Good</td>\n",
       "      <td>J</td>\n",
       "      <td>VVS2</td>\n",
       "      <td>62.8</td>\n",
       "      <td>57.0</td>\n",
       "      <td>336</td>\n",
       "      <td>3.94</td>\n",
       "      <td>3.96</td>\n",
       "      <td>2.48</td>\n",
       "    </tr>\n",
       "    <tr>\n",
       "      <th>6</th>\n",
       "      <td>7</td>\n",
       "      <td>0.24</td>\n",
       "      <td>Very Good</td>\n",
       "      <td>I</td>\n",
       "      <td>VVS1</td>\n",
       "      <td>62.3</td>\n",
       "      <td>57.0</td>\n",
       "      <td>336</td>\n",
       "      <td>3.95</td>\n",
       "      <td>3.98</td>\n",
       "      <td>2.47</td>\n",
       "    </tr>\n",
       "    <tr>\n",
       "      <th>7</th>\n",
       "      <td>8</td>\n",
       "      <td>0.26</td>\n",
       "      <td>Very Good</td>\n",
       "      <td>H</td>\n",
       "      <td>SI1</td>\n",
       "      <td>61.9</td>\n",
       "      <td>55.0</td>\n",
       "      <td>337</td>\n",
       "      <td>4.07</td>\n",
       "      <td>4.11</td>\n",
       "      <td>2.53</td>\n",
       "    </tr>\n",
       "    <tr>\n",
       "      <th>8</th>\n",
       "      <td>9</td>\n",
       "      <td>0.22</td>\n",
       "      <td>Fair</td>\n",
       "      <td>E</td>\n",
       "      <td>VS2</td>\n",
       "      <td>65.1</td>\n",
       "      <td>61.0</td>\n",
       "      <td>337</td>\n",
       "      <td>3.87</td>\n",
       "      <td>3.78</td>\n",
       "      <td>2.49</td>\n",
       "    </tr>\n",
       "    <tr>\n",
       "      <th>9</th>\n",
       "      <td>10</td>\n",
       "      <td>0.23</td>\n",
       "      <td>Very Good</td>\n",
       "      <td>H</td>\n",
       "      <td>VS1</td>\n",
       "      <td>59.4</td>\n",
       "      <td>61.0</td>\n",
       "      <td>338</td>\n",
       "      <td>4.00</td>\n",
       "      <td>4.05</td>\n",
       "      <td>2.39</td>\n",
       "    </tr>\n",
       "  </tbody>\n",
       "</table>\n",
       "</div>"
      ],
      "text/plain": [
       "   Unnamed: 0  carat        cut color clarity  depth  table  price     x  \\\n",
       "0           1   0.23      Ideal     E     SI2   61.5   55.0    326  3.95   \n",
       "1           2   0.21    Premium     E     SI1   59.8   61.0    326  3.89   \n",
       "2           3   0.23       Good     E     VS1   56.9   65.0    327  4.05   \n",
       "3           4   0.29    Premium     I     VS2   62.4   58.0    334  4.20   \n",
       "4           5   0.31       Good     J     SI2   63.3   58.0    335  4.34   \n",
       "5           6   0.24  Very Good     J    VVS2   62.8   57.0    336  3.94   \n",
       "6           7   0.24  Very Good     I    VVS1   62.3   57.0    336  3.95   \n",
       "7           8   0.26  Very Good     H     SI1   61.9   55.0    337  4.07   \n",
       "8           9   0.22       Fair     E     VS2   65.1   61.0    337  3.87   \n",
       "9          10   0.23  Very Good     H     VS1   59.4   61.0    338  4.00   \n",
       "\n",
       "      y     z  \n",
       "0  3.98  2.43  \n",
       "1  3.84  2.31  \n",
       "2  4.07  2.31  \n",
       "3  4.23  2.63  \n",
       "4  4.35  2.75  \n",
       "5  3.96  2.48  \n",
       "6  3.98  2.47  \n",
       "7  4.11  2.53  \n",
       "8  3.78  2.49  \n",
       "9  4.05  2.39  "
      ]
     },
     "execution_count": 1,
     "metadata": {},
     "output_type": "execute_result"
    }
   ],
   "source": [
    "import pandas as pd\n",
    "import numpy as np\n",
    "import seaborn as sns\n",
    "from mpl_toolkits.mplot3d import Axes3D\n",
    "import matplotlib.pyplot as plt\n",
    "%matplotlib inline\n",
    "\n",
    "# Disable Warnings\n",
    "import warnings\n",
    "warnings.simplefilter(action='ignore', category=DeprecationWarning)\n",
    "warnings.simplefilter(action='ignore', category=UserWarning)\n",
    "warnings.simplefilter(action='ignore', category=SyntaxWarning)\n",
    "warnings.simplefilter(action='ignore', category=Warning)\n",
    "\n",
    "df = pd.read_csv('diamonds.csv')\n",
    "df.head(10)"
   ]
  },
  {
   "cell_type": "code",
   "execution_count": 2,
   "metadata": {},
   "outputs": [
    {
     "name": "stdout",
     "output_type": "stream",
     "text": [
      "(53940, 11)\n"
     ]
    }
   ],
   "source": [
    "print(df.shape)"
   ]
  },
  {
   "cell_type": "code",
   "execution_count": 3,
   "metadata": {},
   "outputs": [
    {
     "name": "stdout",
     "output_type": "stream",
     "text": [
      "MATCH dataset consists of total 53940 rows.\n"
     ]
    }
   ],
   "source": [
    "print(\"MATCH dataset consists of total {rows} rows.\".format(rows = len(df)))"
   ]
  },
  {
   "cell_type": "code",
   "execution_count": 4,
   "metadata": {},
   "outputs": [
    {
     "name": "stdout",
     "output_type": "stream",
     "text": [
      "<class 'pandas.core.frame.DataFrame'>\n",
      "RangeIndex: 53940 entries, 0 to 53939\n",
      "Data columns (total 11 columns):\n",
      "Unnamed: 0    53940 non-null int64\n",
      "carat         53940 non-null float64\n",
      "cut           53940 non-null object\n",
      "color         53940 non-null object\n",
      "clarity       53940 non-null object\n",
      "depth         53940 non-null float64\n",
      "table         53940 non-null float64\n",
      "price         53940 non-null int64\n",
      "x             53940 non-null float64\n",
      "y             53940 non-null float64\n",
      "z             53940 non-null float64\n",
      "dtypes: float64(6), int64(2), object(3)\n",
      "memory usage: 4.5+ MB\n"
     ]
    }
   ],
   "source": [
    "df.info()"
   ]
  },
  {
   "cell_type": "markdown",
   "metadata": {},
   "source": [
    "**DATA PREPROCESSING**"
   ]
  },
  {
   "cell_type": "code",
   "execution_count": 5,
   "metadata": {},
   "outputs": [
    {
     "data": {
      "text/plain": [
       "0.0"
      ]
     },
     "execution_count": 5,
     "metadata": {},
     "output_type": "execute_result"
    }
   ],
   "source": [
    "#Calculate percentage of missing values for each column\n",
    "missing_values = df.isnull().mean()\n",
    "missing_values.sum()"
   ]
  },
  {
   "cell_type": "markdown",
   "metadata": {},
   "source": [
    "* Dataset has **NO** missing values."
   ]
  },
  {
   "cell_type": "markdown",
   "metadata": {},
   "source": [
    "* Dropping the Unnamed column "
   ]
  },
  {
   "cell_type": "code",
   "execution_count": 6,
   "metadata": {},
   "outputs": [
    {
     "data": {
      "text/html": [
       "<div>\n",
       "<style scoped>\n",
       "    .dataframe tbody tr th:only-of-type {\n",
       "        vertical-align: middle;\n",
       "    }\n",
       "\n",
       "    .dataframe tbody tr th {\n",
       "        vertical-align: top;\n",
       "    }\n",
       "\n",
       "    .dataframe thead th {\n",
       "        text-align: right;\n",
       "    }\n",
       "</style>\n",
       "<table border=\"1\" class=\"dataframe\">\n",
       "  <thead>\n",
       "    <tr style=\"text-align: right;\">\n",
       "      <th></th>\n",
       "      <th>carat</th>\n",
       "      <th>cut</th>\n",
       "      <th>color</th>\n",
       "      <th>clarity</th>\n",
       "      <th>depth</th>\n",
       "      <th>table</th>\n",
       "      <th>price</th>\n",
       "      <th>x</th>\n",
       "      <th>y</th>\n",
       "      <th>z</th>\n",
       "    </tr>\n",
       "  </thead>\n",
       "  <tbody>\n",
       "    <tr>\n",
       "      <th>1</th>\n",
       "      <td>0.23</td>\n",
       "      <td>Ideal</td>\n",
       "      <td>E</td>\n",
       "      <td>SI2</td>\n",
       "      <td>61.5</td>\n",
       "      <td>55.0</td>\n",
       "      <td>326</td>\n",
       "      <td>3.95</td>\n",
       "      <td>3.98</td>\n",
       "      <td>2.43</td>\n",
       "    </tr>\n",
       "    <tr>\n",
       "      <th>2</th>\n",
       "      <td>0.21</td>\n",
       "      <td>Premium</td>\n",
       "      <td>E</td>\n",
       "      <td>SI1</td>\n",
       "      <td>59.8</td>\n",
       "      <td>61.0</td>\n",
       "      <td>326</td>\n",
       "      <td>3.89</td>\n",
       "      <td>3.84</td>\n",
       "      <td>2.31</td>\n",
       "    </tr>\n",
       "    <tr>\n",
       "      <th>3</th>\n",
       "      <td>0.23</td>\n",
       "      <td>Good</td>\n",
       "      <td>E</td>\n",
       "      <td>VS1</td>\n",
       "      <td>56.9</td>\n",
       "      <td>65.0</td>\n",
       "      <td>327</td>\n",
       "      <td>4.05</td>\n",
       "      <td>4.07</td>\n",
       "      <td>2.31</td>\n",
       "    </tr>\n",
       "    <tr>\n",
       "      <th>4</th>\n",
       "      <td>0.29</td>\n",
       "      <td>Premium</td>\n",
       "      <td>I</td>\n",
       "      <td>VS2</td>\n",
       "      <td>62.4</td>\n",
       "      <td>58.0</td>\n",
       "      <td>334</td>\n",
       "      <td>4.20</td>\n",
       "      <td>4.23</td>\n",
       "      <td>2.63</td>\n",
       "    </tr>\n",
       "    <tr>\n",
       "      <th>5</th>\n",
       "      <td>0.31</td>\n",
       "      <td>Good</td>\n",
       "      <td>J</td>\n",
       "      <td>SI2</td>\n",
       "      <td>63.3</td>\n",
       "      <td>58.0</td>\n",
       "      <td>335</td>\n",
       "      <td>4.34</td>\n",
       "      <td>4.35</td>\n",
       "      <td>2.75</td>\n",
       "    </tr>\n",
       "    <tr>\n",
       "      <th>6</th>\n",
       "      <td>0.24</td>\n",
       "      <td>Very Good</td>\n",
       "      <td>J</td>\n",
       "      <td>VVS2</td>\n",
       "      <td>62.8</td>\n",
       "      <td>57.0</td>\n",
       "      <td>336</td>\n",
       "      <td>3.94</td>\n",
       "      <td>3.96</td>\n",
       "      <td>2.48</td>\n",
       "    </tr>\n",
       "    <tr>\n",
       "      <th>7</th>\n",
       "      <td>0.24</td>\n",
       "      <td>Very Good</td>\n",
       "      <td>I</td>\n",
       "      <td>VVS1</td>\n",
       "      <td>62.3</td>\n",
       "      <td>57.0</td>\n",
       "      <td>336</td>\n",
       "      <td>3.95</td>\n",
       "      <td>3.98</td>\n",
       "      <td>2.47</td>\n",
       "    </tr>\n",
       "    <tr>\n",
       "      <th>8</th>\n",
       "      <td>0.26</td>\n",
       "      <td>Very Good</td>\n",
       "      <td>H</td>\n",
       "      <td>SI1</td>\n",
       "      <td>61.9</td>\n",
       "      <td>55.0</td>\n",
       "      <td>337</td>\n",
       "      <td>4.07</td>\n",
       "      <td>4.11</td>\n",
       "      <td>2.53</td>\n",
       "    </tr>\n",
       "    <tr>\n",
       "      <th>9</th>\n",
       "      <td>0.22</td>\n",
       "      <td>Fair</td>\n",
       "      <td>E</td>\n",
       "      <td>VS2</td>\n",
       "      <td>65.1</td>\n",
       "      <td>61.0</td>\n",
       "      <td>337</td>\n",
       "      <td>3.87</td>\n",
       "      <td>3.78</td>\n",
       "      <td>2.49</td>\n",
       "    </tr>\n",
       "    <tr>\n",
       "      <th>10</th>\n",
       "      <td>0.23</td>\n",
       "      <td>Very Good</td>\n",
       "      <td>H</td>\n",
       "      <td>VS1</td>\n",
       "      <td>59.4</td>\n",
       "      <td>61.0</td>\n",
       "      <td>338</td>\n",
       "      <td>4.00</td>\n",
       "      <td>4.05</td>\n",
       "      <td>2.39</td>\n",
       "    </tr>\n",
       "    <tr>\n",
       "      <th>11</th>\n",
       "      <td>0.30</td>\n",
       "      <td>Good</td>\n",
       "      <td>J</td>\n",
       "      <td>SI1</td>\n",
       "      <td>64.0</td>\n",
       "      <td>55.0</td>\n",
       "      <td>339</td>\n",
       "      <td>4.25</td>\n",
       "      <td>4.28</td>\n",
       "      <td>2.73</td>\n",
       "    </tr>\n",
       "    <tr>\n",
       "      <th>12</th>\n",
       "      <td>0.23</td>\n",
       "      <td>Ideal</td>\n",
       "      <td>J</td>\n",
       "      <td>VS1</td>\n",
       "      <td>62.8</td>\n",
       "      <td>56.0</td>\n",
       "      <td>340</td>\n",
       "      <td>3.93</td>\n",
       "      <td>3.90</td>\n",
       "      <td>2.46</td>\n",
       "    </tr>\n",
       "    <tr>\n",
       "      <th>13</th>\n",
       "      <td>0.22</td>\n",
       "      <td>Premium</td>\n",
       "      <td>F</td>\n",
       "      <td>SI1</td>\n",
       "      <td>60.4</td>\n",
       "      <td>61.0</td>\n",
       "      <td>342</td>\n",
       "      <td>3.88</td>\n",
       "      <td>3.84</td>\n",
       "      <td>2.33</td>\n",
       "    </tr>\n",
       "    <tr>\n",
       "      <th>14</th>\n",
       "      <td>0.31</td>\n",
       "      <td>Ideal</td>\n",
       "      <td>J</td>\n",
       "      <td>SI2</td>\n",
       "      <td>62.2</td>\n",
       "      <td>54.0</td>\n",
       "      <td>344</td>\n",
       "      <td>4.35</td>\n",
       "      <td>4.37</td>\n",
       "      <td>2.71</td>\n",
       "    </tr>\n",
       "    <tr>\n",
       "      <th>15</th>\n",
       "      <td>0.20</td>\n",
       "      <td>Premium</td>\n",
       "      <td>E</td>\n",
       "      <td>SI2</td>\n",
       "      <td>60.2</td>\n",
       "      <td>62.0</td>\n",
       "      <td>345</td>\n",
       "      <td>3.79</td>\n",
       "      <td>3.75</td>\n",
       "      <td>2.27</td>\n",
       "    </tr>\n",
       "    <tr>\n",
       "      <th>16</th>\n",
       "      <td>0.32</td>\n",
       "      <td>Premium</td>\n",
       "      <td>E</td>\n",
       "      <td>I1</td>\n",
       "      <td>60.9</td>\n",
       "      <td>58.0</td>\n",
       "      <td>345</td>\n",
       "      <td>4.38</td>\n",
       "      <td>4.42</td>\n",
       "      <td>2.68</td>\n",
       "    </tr>\n",
       "    <tr>\n",
       "      <th>17</th>\n",
       "      <td>0.30</td>\n",
       "      <td>Ideal</td>\n",
       "      <td>I</td>\n",
       "      <td>SI2</td>\n",
       "      <td>62.0</td>\n",
       "      <td>54.0</td>\n",
       "      <td>348</td>\n",
       "      <td>4.31</td>\n",
       "      <td>4.34</td>\n",
       "      <td>2.68</td>\n",
       "    </tr>\n",
       "    <tr>\n",
       "      <th>18</th>\n",
       "      <td>0.30</td>\n",
       "      <td>Good</td>\n",
       "      <td>J</td>\n",
       "      <td>SI1</td>\n",
       "      <td>63.4</td>\n",
       "      <td>54.0</td>\n",
       "      <td>351</td>\n",
       "      <td>4.23</td>\n",
       "      <td>4.29</td>\n",
       "      <td>2.70</td>\n",
       "    </tr>\n",
       "    <tr>\n",
       "      <th>19</th>\n",
       "      <td>0.30</td>\n",
       "      <td>Good</td>\n",
       "      <td>J</td>\n",
       "      <td>SI1</td>\n",
       "      <td>63.8</td>\n",
       "      <td>56.0</td>\n",
       "      <td>351</td>\n",
       "      <td>4.23</td>\n",
       "      <td>4.26</td>\n",
       "      <td>2.71</td>\n",
       "    </tr>\n",
       "    <tr>\n",
       "      <th>20</th>\n",
       "      <td>0.30</td>\n",
       "      <td>Very Good</td>\n",
       "      <td>J</td>\n",
       "      <td>SI1</td>\n",
       "      <td>62.7</td>\n",
       "      <td>59.0</td>\n",
       "      <td>351</td>\n",
       "      <td>4.21</td>\n",
       "      <td>4.27</td>\n",
       "      <td>2.66</td>\n",
       "    </tr>\n",
       "    <tr>\n",
       "      <th>21</th>\n",
       "      <td>0.30</td>\n",
       "      <td>Good</td>\n",
       "      <td>I</td>\n",
       "      <td>SI2</td>\n",
       "      <td>63.3</td>\n",
       "      <td>56.0</td>\n",
       "      <td>351</td>\n",
       "      <td>4.26</td>\n",
       "      <td>4.30</td>\n",
       "      <td>2.71</td>\n",
       "    </tr>\n",
       "    <tr>\n",
       "      <th>22</th>\n",
       "      <td>0.23</td>\n",
       "      <td>Very Good</td>\n",
       "      <td>E</td>\n",
       "      <td>VS2</td>\n",
       "      <td>63.8</td>\n",
       "      <td>55.0</td>\n",
       "      <td>352</td>\n",
       "      <td>3.85</td>\n",
       "      <td>3.92</td>\n",
       "      <td>2.48</td>\n",
       "    </tr>\n",
       "    <tr>\n",
       "      <th>23</th>\n",
       "      <td>0.23</td>\n",
       "      <td>Very Good</td>\n",
       "      <td>H</td>\n",
       "      <td>VS1</td>\n",
       "      <td>61.0</td>\n",
       "      <td>57.0</td>\n",
       "      <td>353</td>\n",
       "      <td>3.94</td>\n",
       "      <td>3.96</td>\n",
       "      <td>2.41</td>\n",
       "    </tr>\n",
       "    <tr>\n",
       "      <th>24</th>\n",
       "      <td>0.31</td>\n",
       "      <td>Very Good</td>\n",
       "      <td>J</td>\n",
       "      <td>SI1</td>\n",
       "      <td>59.4</td>\n",
       "      <td>62.0</td>\n",
       "      <td>353</td>\n",
       "      <td>4.39</td>\n",
       "      <td>4.43</td>\n",
       "      <td>2.62</td>\n",
       "    </tr>\n",
       "    <tr>\n",
       "      <th>25</th>\n",
       "      <td>0.31</td>\n",
       "      <td>Very Good</td>\n",
       "      <td>J</td>\n",
       "      <td>SI1</td>\n",
       "      <td>58.1</td>\n",
       "      <td>62.0</td>\n",
       "      <td>353</td>\n",
       "      <td>4.44</td>\n",
       "      <td>4.47</td>\n",
       "      <td>2.59</td>\n",
       "    </tr>\n",
       "    <tr>\n",
       "      <th>26</th>\n",
       "      <td>0.23</td>\n",
       "      <td>Very Good</td>\n",
       "      <td>G</td>\n",
       "      <td>VVS2</td>\n",
       "      <td>60.4</td>\n",
       "      <td>58.0</td>\n",
       "      <td>354</td>\n",
       "      <td>3.97</td>\n",
       "      <td>4.01</td>\n",
       "      <td>2.41</td>\n",
       "    </tr>\n",
       "    <tr>\n",
       "      <th>27</th>\n",
       "      <td>0.24</td>\n",
       "      <td>Premium</td>\n",
       "      <td>I</td>\n",
       "      <td>VS1</td>\n",
       "      <td>62.5</td>\n",
       "      <td>57.0</td>\n",
       "      <td>355</td>\n",
       "      <td>3.97</td>\n",
       "      <td>3.94</td>\n",
       "      <td>2.47</td>\n",
       "    </tr>\n",
       "    <tr>\n",
       "      <th>28</th>\n",
       "      <td>0.30</td>\n",
       "      <td>Very Good</td>\n",
       "      <td>J</td>\n",
       "      <td>VS2</td>\n",
       "      <td>62.2</td>\n",
       "      <td>57.0</td>\n",
       "      <td>357</td>\n",
       "      <td>4.28</td>\n",
       "      <td>4.30</td>\n",
       "      <td>2.67</td>\n",
       "    </tr>\n",
       "    <tr>\n",
       "      <th>29</th>\n",
       "      <td>0.23</td>\n",
       "      <td>Very Good</td>\n",
       "      <td>D</td>\n",
       "      <td>VS2</td>\n",
       "      <td>60.5</td>\n",
       "      <td>61.0</td>\n",
       "      <td>357</td>\n",
       "      <td>3.96</td>\n",
       "      <td>3.97</td>\n",
       "      <td>2.40</td>\n",
       "    </tr>\n",
       "    <tr>\n",
       "      <th>30</th>\n",
       "      <td>0.23</td>\n",
       "      <td>Very Good</td>\n",
       "      <td>F</td>\n",
       "      <td>VS1</td>\n",
       "      <td>60.9</td>\n",
       "      <td>57.0</td>\n",
       "      <td>357</td>\n",
       "      <td>3.96</td>\n",
       "      <td>3.99</td>\n",
       "      <td>2.42</td>\n",
       "    </tr>\n",
       "    <tr>\n",
       "      <th>...</th>\n",
       "      <td>...</td>\n",
       "      <td>...</td>\n",
       "      <td>...</td>\n",
       "      <td>...</td>\n",
       "      <td>...</td>\n",
       "      <td>...</td>\n",
       "      <td>...</td>\n",
       "      <td>...</td>\n",
       "      <td>...</td>\n",
       "      <td>...</td>\n",
       "    </tr>\n",
       "    <tr>\n",
       "      <th>53911</th>\n",
       "      <td>0.70</td>\n",
       "      <td>Premium</td>\n",
       "      <td>E</td>\n",
       "      <td>SI1</td>\n",
       "      <td>60.5</td>\n",
       "      <td>58.0</td>\n",
       "      <td>2753</td>\n",
       "      <td>5.74</td>\n",
       "      <td>5.77</td>\n",
       "      <td>3.48</td>\n",
       "    </tr>\n",
       "    <tr>\n",
       "      <th>53912</th>\n",
       "      <td>0.57</td>\n",
       "      <td>Premium</td>\n",
       "      <td>E</td>\n",
       "      <td>IF</td>\n",
       "      <td>59.8</td>\n",
       "      <td>60.0</td>\n",
       "      <td>2753</td>\n",
       "      <td>5.43</td>\n",
       "      <td>5.38</td>\n",
       "      <td>3.23</td>\n",
       "    </tr>\n",
       "    <tr>\n",
       "      <th>53913</th>\n",
       "      <td>0.61</td>\n",
       "      <td>Premium</td>\n",
       "      <td>F</td>\n",
       "      <td>VVS1</td>\n",
       "      <td>61.8</td>\n",
       "      <td>59.0</td>\n",
       "      <td>2753</td>\n",
       "      <td>5.48</td>\n",
       "      <td>5.40</td>\n",
       "      <td>3.36</td>\n",
       "    </tr>\n",
       "    <tr>\n",
       "      <th>53914</th>\n",
       "      <td>0.80</td>\n",
       "      <td>Good</td>\n",
       "      <td>G</td>\n",
       "      <td>VS2</td>\n",
       "      <td>64.2</td>\n",
       "      <td>58.0</td>\n",
       "      <td>2753</td>\n",
       "      <td>5.84</td>\n",
       "      <td>5.81</td>\n",
       "      <td>3.74</td>\n",
       "    </tr>\n",
       "    <tr>\n",
       "      <th>53915</th>\n",
       "      <td>0.84</td>\n",
       "      <td>Good</td>\n",
       "      <td>I</td>\n",
       "      <td>VS1</td>\n",
       "      <td>63.7</td>\n",
       "      <td>59.0</td>\n",
       "      <td>2753</td>\n",
       "      <td>5.94</td>\n",
       "      <td>5.90</td>\n",
       "      <td>3.77</td>\n",
       "    </tr>\n",
       "    <tr>\n",
       "      <th>53916</th>\n",
       "      <td>0.77</td>\n",
       "      <td>Ideal</td>\n",
       "      <td>E</td>\n",
       "      <td>SI2</td>\n",
       "      <td>62.1</td>\n",
       "      <td>56.0</td>\n",
       "      <td>2753</td>\n",
       "      <td>5.84</td>\n",
       "      <td>5.86</td>\n",
       "      <td>3.63</td>\n",
       "    </tr>\n",
       "    <tr>\n",
       "      <th>53917</th>\n",
       "      <td>0.74</td>\n",
       "      <td>Good</td>\n",
       "      <td>D</td>\n",
       "      <td>SI1</td>\n",
       "      <td>63.1</td>\n",
       "      <td>59.0</td>\n",
       "      <td>2753</td>\n",
       "      <td>5.71</td>\n",
       "      <td>5.74</td>\n",
       "      <td>3.61</td>\n",
       "    </tr>\n",
       "    <tr>\n",
       "      <th>53918</th>\n",
       "      <td>0.90</td>\n",
       "      <td>Very Good</td>\n",
       "      <td>J</td>\n",
       "      <td>SI1</td>\n",
       "      <td>63.2</td>\n",
       "      <td>60.0</td>\n",
       "      <td>2753</td>\n",
       "      <td>6.12</td>\n",
       "      <td>6.09</td>\n",
       "      <td>3.86</td>\n",
       "    </tr>\n",
       "    <tr>\n",
       "      <th>53919</th>\n",
       "      <td>0.76</td>\n",
       "      <td>Premium</td>\n",
       "      <td>I</td>\n",
       "      <td>VS1</td>\n",
       "      <td>59.3</td>\n",
       "      <td>62.0</td>\n",
       "      <td>2753</td>\n",
       "      <td>5.93</td>\n",
       "      <td>5.85</td>\n",
       "      <td>3.49</td>\n",
       "    </tr>\n",
       "    <tr>\n",
       "      <th>53920</th>\n",
       "      <td>0.76</td>\n",
       "      <td>Ideal</td>\n",
       "      <td>I</td>\n",
       "      <td>VVS1</td>\n",
       "      <td>62.2</td>\n",
       "      <td>55.0</td>\n",
       "      <td>2753</td>\n",
       "      <td>5.89</td>\n",
       "      <td>5.87</td>\n",
       "      <td>3.66</td>\n",
       "    </tr>\n",
       "    <tr>\n",
       "      <th>53921</th>\n",
       "      <td>0.70</td>\n",
       "      <td>Very Good</td>\n",
       "      <td>E</td>\n",
       "      <td>VS2</td>\n",
       "      <td>62.4</td>\n",
       "      <td>60.0</td>\n",
       "      <td>2755</td>\n",
       "      <td>5.57</td>\n",
       "      <td>5.61</td>\n",
       "      <td>3.49</td>\n",
       "    </tr>\n",
       "    <tr>\n",
       "      <th>53922</th>\n",
       "      <td>0.70</td>\n",
       "      <td>Very Good</td>\n",
       "      <td>E</td>\n",
       "      <td>VS2</td>\n",
       "      <td>62.8</td>\n",
       "      <td>60.0</td>\n",
       "      <td>2755</td>\n",
       "      <td>5.59</td>\n",
       "      <td>5.65</td>\n",
       "      <td>3.53</td>\n",
       "    </tr>\n",
       "    <tr>\n",
       "      <th>53923</th>\n",
       "      <td>0.70</td>\n",
       "      <td>Very Good</td>\n",
       "      <td>D</td>\n",
       "      <td>VS1</td>\n",
       "      <td>63.1</td>\n",
       "      <td>59.0</td>\n",
       "      <td>2755</td>\n",
       "      <td>5.67</td>\n",
       "      <td>5.58</td>\n",
       "      <td>3.55</td>\n",
       "    </tr>\n",
       "    <tr>\n",
       "      <th>53924</th>\n",
       "      <td>0.73</td>\n",
       "      <td>Ideal</td>\n",
       "      <td>I</td>\n",
       "      <td>VS2</td>\n",
       "      <td>61.3</td>\n",
       "      <td>56.0</td>\n",
       "      <td>2756</td>\n",
       "      <td>5.80</td>\n",
       "      <td>5.84</td>\n",
       "      <td>3.57</td>\n",
       "    </tr>\n",
       "    <tr>\n",
       "      <th>53925</th>\n",
       "      <td>0.73</td>\n",
       "      <td>Ideal</td>\n",
       "      <td>I</td>\n",
       "      <td>VS2</td>\n",
       "      <td>61.6</td>\n",
       "      <td>55.0</td>\n",
       "      <td>2756</td>\n",
       "      <td>5.82</td>\n",
       "      <td>5.84</td>\n",
       "      <td>3.59</td>\n",
       "    </tr>\n",
       "    <tr>\n",
       "      <th>53926</th>\n",
       "      <td>0.79</td>\n",
       "      <td>Ideal</td>\n",
       "      <td>I</td>\n",
       "      <td>SI1</td>\n",
       "      <td>61.6</td>\n",
       "      <td>56.0</td>\n",
       "      <td>2756</td>\n",
       "      <td>5.95</td>\n",
       "      <td>5.97</td>\n",
       "      <td>3.67</td>\n",
       "    </tr>\n",
       "    <tr>\n",
       "      <th>53927</th>\n",
       "      <td>0.71</td>\n",
       "      <td>Ideal</td>\n",
       "      <td>E</td>\n",
       "      <td>SI1</td>\n",
       "      <td>61.9</td>\n",
       "      <td>56.0</td>\n",
       "      <td>2756</td>\n",
       "      <td>5.71</td>\n",
       "      <td>5.73</td>\n",
       "      <td>3.54</td>\n",
       "    </tr>\n",
       "    <tr>\n",
       "      <th>53928</th>\n",
       "      <td>0.79</td>\n",
       "      <td>Good</td>\n",
       "      <td>F</td>\n",
       "      <td>SI1</td>\n",
       "      <td>58.1</td>\n",
       "      <td>59.0</td>\n",
       "      <td>2756</td>\n",
       "      <td>6.06</td>\n",
       "      <td>6.13</td>\n",
       "      <td>3.54</td>\n",
       "    </tr>\n",
       "    <tr>\n",
       "      <th>53929</th>\n",
       "      <td>0.79</td>\n",
       "      <td>Premium</td>\n",
       "      <td>E</td>\n",
       "      <td>SI2</td>\n",
       "      <td>61.4</td>\n",
       "      <td>58.0</td>\n",
       "      <td>2756</td>\n",
       "      <td>6.03</td>\n",
       "      <td>5.96</td>\n",
       "      <td>3.68</td>\n",
       "    </tr>\n",
       "    <tr>\n",
       "      <th>53930</th>\n",
       "      <td>0.71</td>\n",
       "      <td>Ideal</td>\n",
       "      <td>G</td>\n",
       "      <td>VS1</td>\n",
       "      <td>61.4</td>\n",
       "      <td>56.0</td>\n",
       "      <td>2756</td>\n",
       "      <td>5.76</td>\n",
       "      <td>5.73</td>\n",
       "      <td>3.53</td>\n",
       "    </tr>\n",
       "    <tr>\n",
       "      <th>53931</th>\n",
       "      <td>0.71</td>\n",
       "      <td>Premium</td>\n",
       "      <td>E</td>\n",
       "      <td>SI1</td>\n",
       "      <td>60.5</td>\n",
       "      <td>55.0</td>\n",
       "      <td>2756</td>\n",
       "      <td>5.79</td>\n",
       "      <td>5.74</td>\n",
       "      <td>3.49</td>\n",
       "    </tr>\n",
       "    <tr>\n",
       "      <th>53932</th>\n",
       "      <td>0.71</td>\n",
       "      <td>Premium</td>\n",
       "      <td>F</td>\n",
       "      <td>SI1</td>\n",
       "      <td>59.8</td>\n",
       "      <td>62.0</td>\n",
       "      <td>2756</td>\n",
       "      <td>5.74</td>\n",
       "      <td>5.73</td>\n",
       "      <td>3.43</td>\n",
       "    </tr>\n",
       "    <tr>\n",
       "      <th>53933</th>\n",
       "      <td>0.70</td>\n",
       "      <td>Very Good</td>\n",
       "      <td>E</td>\n",
       "      <td>VS2</td>\n",
       "      <td>60.5</td>\n",
       "      <td>59.0</td>\n",
       "      <td>2757</td>\n",
       "      <td>5.71</td>\n",
       "      <td>5.76</td>\n",
       "      <td>3.47</td>\n",
       "    </tr>\n",
       "    <tr>\n",
       "      <th>53934</th>\n",
       "      <td>0.70</td>\n",
       "      <td>Very Good</td>\n",
       "      <td>E</td>\n",
       "      <td>VS2</td>\n",
       "      <td>61.2</td>\n",
       "      <td>59.0</td>\n",
       "      <td>2757</td>\n",
       "      <td>5.69</td>\n",
       "      <td>5.72</td>\n",
       "      <td>3.49</td>\n",
       "    </tr>\n",
       "    <tr>\n",
       "      <th>53935</th>\n",
       "      <td>0.72</td>\n",
       "      <td>Premium</td>\n",
       "      <td>D</td>\n",
       "      <td>SI1</td>\n",
       "      <td>62.7</td>\n",
       "      <td>59.0</td>\n",
       "      <td>2757</td>\n",
       "      <td>5.69</td>\n",
       "      <td>5.73</td>\n",
       "      <td>3.58</td>\n",
       "    </tr>\n",
       "    <tr>\n",
       "      <th>53936</th>\n",
       "      <td>0.72</td>\n",
       "      <td>Ideal</td>\n",
       "      <td>D</td>\n",
       "      <td>SI1</td>\n",
       "      <td>60.8</td>\n",
       "      <td>57.0</td>\n",
       "      <td>2757</td>\n",
       "      <td>5.75</td>\n",
       "      <td>5.76</td>\n",
       "      <td>3.50</td>\n",
       "    </tr>\n",
       "    <tr>\n",
       "      <th>53937</th>\n",
       "      <td>0.72</td>\n",
       "      <td>Good</td>\n",
       "      <td>D</td>\n",
       "      <td>SI1</td>\n",
       "      <td>63.1</td>\n",
       "      <td>55.0</td>\n",
       "      <td>2757</td>\n",
       "      <td>5.69</td>\n",
       "      <td>5.75</td>\n",
       "      <td>3.61</td>\n",
       "    </tr>\n",
       "    <tr>\n",
       "      <th>53938</th>\n",
       "      <td>0.70</td>\n",
       "      <td>Very Good</td>\n",
       "      <td>D</td>\n",
       "      <td>SI1</td>\n",
       "      <td>62.8</td>\n",
       "      <td>60.0</td>\n",
       "      <td>2757</td>\n",
       "      <td>5.66</td>\n",
       "      <td>5.68</td>\n",
       "      <td>3.56</td>\n",
       "    </tr>\n",
       "    <tr>\n",
       "      <th>53939</th>\n",
       "      <td>0.86</td>\n",
       "      <td>Premium</td>\n",
       "      <td>H</td>\n",
       "      <td>SI2</td>\n",
       "      <td>61.0</td>\n",
       "      <td>58.0</td>\n",
       "      <td>2757</td>\n",
       "      <td>6.15</td>\n",
       "      <td>6.12</td>\n",
       "      <td>3.74</td>\n",
       "    </tr>\n",
       "    <tr>\n",
       "      <th>53940</th>\n",
       "      <td>0.75</td>\n",
       "      <td>Ideal</td>\n",
       "      <td>D</td>\n",
       "      <td>SI2</td>\n",
       "      <td>62.2</td>\n",
       "      <td>55.0</td>\n",
       "      <td>2757</td>\n",
       "      <td>5.83</td>\n",
       "      <td>5.87</td>\n",
       "      <td>3.64</td>\n",
       "    </tr>\n",
       "  </tbody>\n",
       "</table>\n",
       "<p>53940 rows × 10 columns</p>\n",
       "</div>"
      ],
      "text/plain": [
       "       carat        cut color clarity  depth  table  price     x     y     z\n",
       "1       0.23      Ideal     E     SI2   61.5   55.0    326  3.95  3.98  2.43\n",
       "2       0.21    Premium     E     SI1   59.8   61.0    326  3.89  3.84  2.31\n",
       "3       0.23       Good     E     VS1   56.9   65.0    327  4.05  4.07  2.31\n",
       "4       0.29    Premium     I     VS2   62.4   58.0    334  4.20  4.23  2.63\n",
       "5       0.31       Good     J     SI2   63.3   58.0    335  4.34  4.35  2.75\n",
       "6       0.24  Very Good     J    VVS2   62.8   57.0    336  3.94  3.96  2.48\n",
       "7       0.24  Very Good     I    VVS1   62.3   57.0    336  3.95  3.98  2.47\n",
       "8       0.26  Very Good     H     SI1   61.9   55.0    337  4.07  4.11  2.53\n",
       "9       0.22       Fair     E     VS2   65.1   61.0    337  3.87  3.78  2.49\n",
       "10      0.23  Very Good     H     VS1   59.4   61.0    338  4.00  4.05  2.39\n",
       "11      0.30       Good     J     SI1   64.0   55.0    339  4.25  4.28  2.73\n",
       "12      0.23      Ideal     J     VS1   62.8   56.0    340  3.93  3.90  2.46\n",
       "13      0.22    Premium     F     SI1   60.4   61.0    342  3.88  3.84  2.33\n",
       "14      0.31      Ideal     J     SI2   62.2   54.0    344  4.35  4.37  2.71\n",
       "15      0.20    Premium     E     SI2   60.2   62.0    345  3.79  3.75  2.27\n",
       "16      0.32    Premium     E      I1   60.9   58.0    345  4.38  4.42  2.68\n",
       "17      0.30      Ideal     I     SI2   62.0   54.0    348  4.31  4.34  2.68\n",
       "18      0.30       Good     J     SI1   63.4   54.0    351  4.23  4.29  2.70\n",
       "19      0.30       Good     J     SI1   63.8   56.0    351  4.23  4.26  2.71\n",
       "20      0.30  Very Good     J     SI1   62.7   59.0    351  4.21  4.27  2.66\n",
       "21      0.30       Good     I     SI2   63.3   56.0    351  4.26  4.30  2.71\n",
       "22      0.23  Very Good     E     VS2   63.8   55.0    352  3.85  3.92  2.48\n",
       "23      0.23  Very Good     H     VS1   61.0   57.0    353  3.94  3.96  2.41\n",
       "24      0.31  Very Good     J     SI1   59.4   62.0    353  4.39  4.43  2.62\n",
       "25      0.31  Very Good     J     SI1   58.1   62.0    353  4.44  4.47  2.59\n",
       "26      0.23  Very Good     G    VVS2   60.4   58.0    354  3.97  4.01  2.41\n",
       "27      0.24    Premium     I     VS1   62.5   57.0    355  3.97  3.94  2.47\n",
       "28      0.30  Very Good     J     VS2   62.2   57.0    357  4.28  4.30  2.67\n",
       "29      0.23  Very Good     D     VS2   60.5   61.0    357  3.96  3.97  2.40\n",
       "30      0.23  Very Good     F     VS1   60.9   57.0    357  3.96  3.99  2.42\n",
       "...      ...        ...   ...     ...    ...    ...    ...   ...   ...   ...\n",
       "53911   0.70    Premium     E     SI1   60.5   58.0   2753  5.74  5.77  3.48\n",
       "53912   0.57    Premium     E      IF   59.8   60.0   2753  5.43  5.38  3.23\n",
       "53913   0.61    Premium     F    VVS1   61.8   59.0   2753  5.48  5.40  3.36\n",
       "53914   0.80       Good     G     VS2   64.2   58.0   2753  5.84  5.81  3.74\n",
       "53915   0.84       Good     I     VS1   63.7   59.0   2753  5.94  5.90  3.77\n",
       "53916   0.77      Ideal     E     SI2   62.1   56.0   2753  5.84  5.86  3.63\n",
       "53917   0.74       Good     D     SI1   63.1   59.0   2753  5.71  5.74  3.61\n",
       "53918   0.90  Very Good     J     SI1   63.2   60.0   2753  6.12  6.09  3.86\n",
       "53919   0.76    Premium     I     VS1   59.3   62.0   2753  5.93  5.85  3.49\n",
       "53920   0.76      Ideal     I    VVS1   62.2   55.0   2753  5.89  5.87  3.66\n",
       "53921   0.70  Very Good     E     VS2   62.4   60.0   2755  5.57  5.61  3.49\n",
       "53922   0.70  Very Good     E     VS2   62.8   60.0   2755  5.59  5.65  3.53\n",
       "53923   0.70  Very Good     D     VS1   63.1   59.0   2755  5.67  5.58  3.55\n",
       "53924   0.73      Ideal     I     VS2   61.3   56.0   2756  5.80  5.84  3.57\n",
       "53925   0.73      Ideal     I     VS2   61.6   55.0   2756  5.82  5.84  3.59\n",
       "53926   0.79      Ideal     I     SI1   61.6   56.0   2756  5.95  5.97  3.67\n",
       "53927   0.71      Ideal     E     SI1   61.9   56.0   2756  5.71  5.73  3.54\n",
       "53928   0.79       Good     F     SI1   58.1   59.0   2756  6.06  6.13  3.54\n",
       "53929   0.79    Premium     E     SI2   61.4   58.0   2756  6.03  5.96  3.68\n",
       "53930   0.71      Ideal     G     VS1   61.4   56.0   2756  5.76  5.73  3.53\n",
       "53931   0.71    Premium     E     SI1   60.5   55.0   2756  5.79  5.74  3.49\n",
       "53932   0.71    Premium     F     SI1   59.8   62.0   2756  5.74  5.73  3.43\n",
       "53933   0.70  Very Good     E     VS2   60.5   59.0   2757  5.71  5.76  3.47\n",
       "53934   0.70  Very Good     E     VS2   61.2   59.0   2757  5.69  5.72  3.49\n",
       "53935   0.72    Premium     D     SI1   62.7   59.0   2757  5.69  5.73  3.58\n",
       "53936   0.72      Ideal     D     SI1   60.8   57.0   2757  5.75  5.76  3.50\n",
       "53937   0.72       Good     D     SI1   63.1   55.0   2757  5.69  5.75  3.61\n",
       "53938   0.70  Very Good     D     SI1   62.8   60.0   2757  5.66  5.68  3.56\n",
       "53939   0.86    Premium     H     SI2   61.0   58.0   2757  6.15  6.12  3.74\n",
       "53940   0.75      Ideal     D     SI2   62.2   55.0   2757  5.83  5.87  3.64\n",
       "\n",
       "[53940 rows x 10 columns]"
      ]
     },
     "execution_count": 6,
     "metadata": {},
     "output_type": "execute_result"
    }
   ],
   "source": [
    "df = pd.read_csv('diamonds.csv', index_col=0)\n",
    "df"
   ]
  },
  {
   "cell_type": "markdown",
   "metadata": {},
   "source": [
    "**DATA VISUALIZATION AND PREPROCESSING FOR DIAMOND DATASET**"
   ]
  },
  {
   "cell_type": "code",
   "execution_count": 7,
   "metadata": {},
   "outputs": [
    {
     "data": {
      "text/html": [
       "<div>\n",
       "<style scoped>\n",
       "    .dataframe tbody tr th:only-of-type {\n",
       "        vertical-align: middle;\n",
       "    }\n",
       "\n",
       "    .dataframe tbody tr th {\n",
       "        vertical-align: top;\n",
       "    }\n",
       "\n",
       "    .dataframe thead th {\n",
       "        text-align: right;\n",
       "    }\n",
       "</style>\n",
       "<table border=\"1\" class=\"dataframe\">\n",
       "  <thead>\n",
       "    <tr style=\"text-align: right;\">\n",
       "      <th></th>\n",
       "      <th>carat</th>\n",
       "      <th>depth</th>\n",
       "      <th>table</th>\n",
       "      <th>price</th>\n",
       "      <th>x</th>\n",
       "      <th>y</th>\n",
       "      <th>z</th>\n",
       "    </tr>\n",
       "  </thead>\n",
       "  <tbody>\n",
       "    <tr>\n",
       "      <th>count</th>\n",
       "      <td>53940.000000</td>\n",
       "      <td>53940.000000</td>\n",
       "      <td>53940.000000</td>\n",
       "      <td>53940.000000</td>\n",
       "      <td>53940.000000</td>\n",
       "      <td>53940.000000</td>\n",
       "      <td>53940.000000</td>\n",
       "    </tr>\n",
       "    <tr>\n",
       "      <th>mean</th>\n",
       "      <td>0.797940</td>\n",
       "      <td>61.749405</td>\n",
       "      <td>57.457184</td>\n",
       "      <td>3932.799722</td>\n",
       "      <td>5.731157</td>\n",
       "      <td>5.734526</td>\n",
       "      <td>3.538734</td>\n",
       "    </tr>\n",
       "    <tr>\n",
       "      <th>std</th>\n",
       "      <td>0.474011</td>\n",
       "      <td>1.432621</td>\n",
       "      <td>2.234491</td>\n",
       "      <td>3989.439738</td>\n",
       "      <td>1.121761</td>\n",
       "      <td>1.142135</td>\n",
       "      <td>0.705699</td>\n",
       "    </tr>\n",
       "    <tr>\n",
       "      <th>min</th>\n",
       "      <td>0.200000</td>\n",
       "      <td>43.000000</td>\n",
       "      <td>43.000000</td>\n",
       "      <td>326.000000</td>\n",
       "      <td>0.000000</td>\n",
       "      <td>0.000000</td>\n",
       "      <td>0.000000</td>\n",
       "    </tr>\n",
       "    <tr>\n",
       "      <th>25%</th>\n",
       "      <td>0.400000</td>\n",
       "      <td>61.000000</td>\n",
       "      <td>56.000000</td>\n",
       "      <td>950.000000</td>\n",
       "      <td>4.710000</td>\n",
       "      <td>4.720000</td>\n",
       "      <td>2.910000</td>\n",
       "    </tr>\n",
       "    <tr>\n",
       "      <th>50%</th>\n",
       "      <td>0.700000</td>\n",
       "      <td>61.800000</td>\n",
       "      <td>57.000000</td>\n",
       "      <td>2401.000000</td>\n",
       "      <td>5.700000</td>\n",
       "      <td>5.710000</td>\n",
       "      <td>3.530000</td>\n",
       "    </tr>\n",
       "    <tr>\n",
       "      <th>75%</th>\n",
       "      <td>1.040000</td>\n",
       "      <td>62.500000</td>\n",
       "      <td>59.000000</td>\n",
       "      <td>5324.250000</td>\n",
       "      <td>6.540000</td>\n",
       "      <td>6.540000</td>\n",
       "      <td>4.040000</td>\n",
       "    </tr>\n",
       "    <tr>\n",
       "      <th>max</th>\n",
       "      <td>5.010000</td>\n",
       "      <td>79.000000</td>\n",
       "      <td>95.000000</td>\n",
       "      <td>18823.000000</td>\n",
       "      <td>10.740000</td>\n",
       "      <td>58.900000</td>\n",
       "      <td>31.800000</td>\n",
       "    </tr>\n",
       "  </tbody>\n",
       "</table>\n",
       "</div>"
      ],
      "text/plain": [
       "              carat         depth         table         price             x  \\\n",
       "count  53940.000000  53940.000000  53940.000000  53940.000000  53940.000000   \n",
       "mean       0.797940     61.749405     57.457184   3932.799722      5.731157   \n",
       "std        0.474011      1.432621      2.234491   3989.439738      1.121761   \n",
       "min        0.200000     43.000000     43.000000    326.000000      0.000000   \n",
       "25%        0.400000     61.000000     56.000000    950.000000      4.710000   \n",
       "50%        0.700000     61.800000     57.000000   2401.000000      5.700000   \n",
       "75%        1.040000     62.500000     59.000000   5324.250000      6.540000   \n",
       "max        5.010000     79.000000     95.000000  18823.000000     10.740000   \n",
       "\n",
       "                  y             z  \n",
       "count  53940.000000  53940.000000  \n",
       "mean       5.734526      3.538734  \n",
       "std        1.142135      0.705699  \n",
       "min        0.000000      0.000000  \n",
       "25%        4.720000      2.910000  \n",
       "50%        5.710000      3.530000  \n",
       "75%        6.540000      4.040000  \n",
       "max       58.900000     31.800000  "
      ]
     },
     "execution_count": 7,
     "metadata": {},
     "output_type": "execute_result"
    }
   ],
   "source": [
    "df.describe()"
   ]
  },
  {
   "cell_type": "markdown",
   "metadata": {},
   "source": [
    "* The minimum values for x,y and z shown are 0 but it is not possible because the length, width and depth cannot be zero. "
   ]
  },
  {
   "cell_type": "code",
   "execution_count": 8,
   "metadata": {},
   "outputs": [
    {
     "name": "stdout",
     "output_type": "stream",
     "text": [
      "No. of rows with x == 0: 8 \n",
      "No. of rows with y == 0: 7 \n",
      "No. of rows with z == 0: 20 \n"
     ]
    }
   ],
   "source": [
    "print(\"No. of rows with x == 0: {} \".format((df.x==0).sum()))\n",
    "print(\"No. of rows with y == 0: {} \".format((df.y==0).sum()))\n",
    "print(\"No. of rows with z == 0: {} \".format((df.z==0).sum()))\n"
   ]
  },
  {
   "cell_type": "markdown",
   "metadata": {},
   "source": [
    "* To eliminate the 0 in dimensions we use dropna method"
   ]
  },
  {
   "cell_type": "code",
   "execution_count": 9,
   "metadata": {},
   "outputs": [
    {
     "data": {
      "text/plain": [
       "(53940, 10)"
      ]
     },
     "execution_count": 9,
     "metadata": {},
     "output_type": "execute_result"
    }
   ],
   "source": [
    "df.dropna(inplace=True)\n",
    "df.shape"
   ]
  },
  {
   "cell_type": "code",
   "execution_count": 10,
   "metadata": {},
   "outputs": [
    {
     "data": {
      "text/plain": [
       "carat      0\n",
       "cut        0\n",
       "color      0\n",
       "clarity    0\n",
       "depth      0\n",
       "table      0\n",
       "price      0\n",
       "x          0\n",
       "y          0\n",
       "z          0\n",
       "dtype: int64"
      ]
     },
     "execution_count": 10,
     "metadata": {},
     "output_type": "execute_result"
    }
   ],
   "source": [
    "df.isnull().sum()"
   ]
  },
  {
   "cell_type": "code",
   "execution_count": 11,
   "metadata": {},
   "outputs": [
    {
     "data": {
      "text/html": [
       "<div>\n",
       "<style scoped>\n",
       "    .dataframe tbody tr th:only-of-type {\n",
       "        vertical-align: middle;\n",
       "    }\n",
       "\n",
       "    .dataframe tbody tr th {\n",
       "        vertical-align: top;\n",
       "    }\n",
       "\n",
       "    .dataframe thead th {\n",
       "        text-align: right;\n",
       "    }\n",
       "</style>\n",
       "<table border=\"1\" class=\"dataframe\">\n",
       "  <thead>\n",
       "    <tr style=\"text-align: right;\">\n",
       "      <th></th>\n",
       "      <th>carat</th>\n",
       "      <th>cut</th>\n",
       "      <th>color</th>\n",
       "      <th>clarity</th>\n",
       "      <th>depth</th>\n",
       "      <th>table</th>\n",
       "      <th>price</th>\n",
       "      <th>x</th>\n",
       "      <th>y</th>\n",
       "      <th>z</th>\n",
       "      <th>volume</th>\n",
       "    </tr>\n",
       "  </thead>\n",
       "  <tbody>\n",
       "    <tr>\n",
       "      <th>1</th>\n",
       "      <td>0.23</td>\n",
       "      <td>Ideal</td>\n",
       "      <td>E</td>\n",
       "      <td>SI2</td>\n",
       "      <td>61.5</td>\n",
       "      <td>55.0</td>\n",
       "      <td>326</td>\n",
       "      <td>3.95</td>\n",
       "      <td>3.98</td>\n",
       "      <td>2.43</td>\n",
       "      <td>38.202030</td>\n",
       "    </tr>\n",
       "    <tr>\n",
       "      <th>2</th>\n",
       "      <td>0.21</td>\n",
       "      <td>Premium</td>\n",
       "      <td>E</td>\n",
       "      <td>SI1</td>\n",
       "      <td>59.8</td>\n",
       "      <td>61.0</td>\n",
       "      <td>326</td>\n",
       "      <td>3.89</td>\n",
       "      <td>3.84</td>\n",
       "      <td>2.31</td>\n",
       "      <td>34.505856</td>\n",
       "    </tr>\n",
       "    <tr>\n",
       "      <th>3</th>\n",
       "      <td>0.23</td>\n",
       "      <td>Good</td>\n",
       "      <td>E</td>\n",
       "      <td>VS1</td>\n",
       "      <td>56.9</td>\n",
       "      <td>65.0</td>\n",
       "      <td>327</td>\n",
       "      <td>4.05</td>\n",
       "      <td>4.07</td>\n",
       "      <td>2.31</td>\n",
       "      <td>38.076885</td>\n",
       "    </tr>\n",
       "    <tr>\n",
       "      <th>4</th>\n",
       "      <td>0.29</td>\n",
       "      <td>Premium</td>\n",
       "      <td>I</td>\n",
       "      <td>VS2</td>\n",
       "      <td>62.4</td>\n",
       "      <td>58.0</td>\n",
       "      <td>334</td>\n",
       "      <td>4.20</td>\n",
       "      <td>4.23</td>\n",
       "      <td>2.63</td>\n",
       "      <td>46.724580</td>\n",
       "    </tr>\n",
       "    <tr>\n",
       "      <th>5</th>\n",
       "      <td>0.31</td>\n",
       "      <td>Good</td>\n",
       "      <td>J</td>\n",
       "      <td>SI2</td>\n",
       "      <td>63.3</td>\n",
       "      <td>58.0</td>\n",
       "      <td>335</td>\n",
       "      <td>4.34</td>\n",
       "      <td>4.35</td>\n",
       "      <td>2.75</td>\n",
       "      <td>51.917250</td>\n",
       "    </tr>\n",
       "  </tbody>\n",
       "</table>\n",
       "</div>"
      ],
      "text/plain": [
       "   carat      cut color clarity  depth  table  price     x     y     z  \\\n",
       "1   0.23    Ideal     E     SI2   61.5   55.0    326  3.95  3.98  2.43   \n",
       "2   0.21  Premium     E     SI1   59.8   61.0    326  3.89  3.84  2.31   \n",
       "3   0.23     Good     E     VS1   56.9   65.0    327  4.05  4.07  2.31   \n",
       "4   0.29  Premium     I     VS2   62.4   58.0    334  4.20  4.23  2.63   \n",
       "5   0.31     Good     J     SI2   63.3   58.0    335  4.34  4.35  2.75   \n",
       "\n",
       "      volume  \n",
       "1  38.202030  \n",
       "2  34.505856  \n",
       "3  38.076885  \n",
       "4  46.724580  \n",
       "5  51.917250  "
      ]
     },
     "execution_count": 11,
     "metadata": {},
     "output_type": "execute_result"
    }
   ],
   "source": [
    "volume = df['x']*df['y']*df['z']\n",
    "df = df.assign(volume = df['x']*df['y']*df['z'])\n",
    "df.head()"
   ]
  },
  {
   "cell_type": "code",
   "execution_count": 12,
   "metadata": {},
   "outputs": [
    {
     "data": {
      "text/plain": [
       "carat        273\n",
       "cut            5\n",
       "color          7\n",
       "clarity        8\n",
       "depth        184\n",
       "table        127\n",
       "price      11602\n",
       "x            554\n",
       "y            552\n",
       "z            375\n",
       "volume     28465\n",
       "dtype: int64"
      ]
     },
     "execution_count": 12,
     "metadata": {},
     "output_type": "execute_result"
    }
   ],
   "source": [
    "df.nunique()"
   ]
  },
  {
   "cell_type": "markdown",
   "metadata": {},
   "source": [
    "**DATA PLOTS FOR UNDERSTANDING**"
   ]
  },
  {
   "cell_type": "code",
   "execution_count": 13,
   "metadata": {},
   "outputs": [
    {
     "data": {
      "image/png": "[encoded data removed]",
      "text/plain": [
       "<Figure size 1080x720 with 9 Axes>"
      ]
     },
     "metadata": {
      "needs_background": "light"
     },
     "output_type": "display_data"
    }
   ],
   "source": [
    "h = df.hist(figsize=(15,10))"
   ]
  },
  {
   "cell_type": "code",
   "execution_count": 14,
   "metadata": {},
   "outputs": [
    {
     "data": {
      "text/plain": [
       "<matplotlib.axes._subplots.AxesSubplot at 0x1a193bd908>"
      ]
     },
     "execution_count": 14,
     "metadata": {},
     "output_type": "execute_result"
    },
    {
     "data": {
      "image/png": "[encoded data removed]",
      "text/plain": [
       "<Figure size 1080x720 with 2 Axes>"
      ]
     },
     "metadata": {
      "needs_background": "light"
     },
     "output_type": "display_data"
    }
   ],
   "source": [
    "plt.figure(figsize=(15, 10))\n",
    "corr_map = df.corr()\n",
    "sns.heatmap(data=corr_map, square=True , annot=True, cbar=True)"
   ]
  },
  {
   "cell_type": "code",
   "execution_count": 15,
   "metadata": {},
   "outputs": [
    {
     "data": {
      "image/png": "[encoded data removed]",
      "text/plain": [
       "<Figure size 432x432 with 3 Axes>"
      ]
     },
     "metadata": {},
     "output_type": "display_data"
    }
   ],
   "source": [
    "sns.set(style=\"dark\", color_codes= False)\n",
    "g = sns.jointplot(y=\"price\", x=\"carat\", data=df)"
   ]
  },
  {
   "cell_type": "code",
   "execution_count": 16,
   "metadata": {},
   "outputs": [
    {
     "data": {
      "text/plain": [
       "<matplotlib.axes._subplots.AxesSubplot at 0x1a1a78c6d8>"
      ]
     },
     "execution_count": 16,
     "metadata": {},
     "output_type": "execute_result"
    },
    {
     "data": {
      "image/png": "[encoded data removed]",
      "text/plain": [
       "<Figure size 432x288 with 1 Axes>"
      ]
     },
     "metadata": {},
     "output_type": "display_data"
    }
   ],
   "source": [
    "df.plot(x='price', y='carat')"
   ]
  },
  {
   "cell_type": "code",
   "execution_count": 17,
   "metadata": {},
   "outputs": [
    {
     "data": {
      "image/png": "[encoded data removed]",
      "text/plain": [
       "<Figure size 1080x360 with 1 Axes>"
      ]
     },
     "metadata": {},
     "output_type": "display_data"
    }
   ],
   "source": [
    "p = sns.factorplot(x='cut', data=df , kind='count',aspect=3 )"
   ]
  },
  {
   "cell_type": "code",
   "execution_count": 18,
   "metadata": {},
   "outputs": [
    {
     "data": {
      "image/png": "[encoded data removed]",
      "text/plain": [
       "<Figure size 1080x360 with 1 Axes>"
      ]
     },
     "metadata": {},
     "output_type": "display_data"
    }
   ],
   "source": [
    "p = sns.factorplot(x='clarity', data=df , kind='count',aspect=3)"
   ]
  },
  {
   "cell_type": "code",
   "execution_count": 19,
   "metadata": {},
   "outputs": [
    {
     "data": {
      "text/plain": [
       "<matplotlib.axes._subplots.AxesSubplot at 0x1a1a889160>"
      ]
     },
     "execution_count": 19,
     "metadata": {},
     "output_type": "execute_result"
    },
    {
     "data": {
      "image/png": "[encoded data removed]",
      "text/plain": [
       "<Figure size 432x288 with 1 Axes>"
      ]
     },
     "metadata": {},
     "output_type": "display_data"
    }
   ],
   "source": [
    "sns.boxplot(x='clarity', y='price', data=df )"
   ]
  },
  {
   "cell_type": "code",
   "execution_count": 20,
   "metadata": {},
   "outputs": [
    {
     "data": {
      "text/plain": [
       "<seaborn.axisgrid.FacetGrid at 0x1a1d4bae48>"
      ]
     },
     "execution_count": 20,
     "metadata": {},
     "output_type": "execute_result"
    },
    {
     "data": {
      "image/png": "[encoded data removed]",
      "text/plain": [
       "<Figure size 900x360 with 1 Axes>"
      ]
     },
     "metadata": {},
     "output_type": "display_data"
    }
   ],
   "source": [
    "sns.factorplot(x='color', y='price' , data=df , kind='violin', aspect=2.5)"
   ]
  },
  {
   "cell_type": "markdown",
   "metadata": {},
   "source": [
    "**DATA - PRELIMINARY OBSERVATIONS**\n",
    "From the **Correlation Matrix** following conclusions are derived:\n",
    "1. Carat value is highly related to the Price of Diamond.\n",
    "2. Depth is inversely related to the price of Diamond.\n",
    "3. The Weight (Carat) of a diamond has the most significant impact on its Price. As the weight increases the price also increases.\n",
    "4. The Length=x ,Width=y and Height=z seems to be highly related to Price and even each other.\n",
    "\n",
    "* The Price and Carat show a linear relationship.\n",
    "* Ideal Cut quality of Diamond has the highest count among all.\n",
    "* VS1 and VS2 affect the Diamond's Price equally having quite high Price margin.\n",
    "* Price of J Color Diamond is highest."
   ]
  },
  {
   "cell_type": "code",
   "execution_count": 21,
   "metadata": {},
   "outputs": [],
   "source": [
    "df_r = df"
   ]
  },
  {
   "cell_type": "markdown",
   "metadata": {},
   "source": [
    "# III. Methods\n",
    "#### Summary of Neural Networks\n",
    "Feed forward neural networks have a rich representation. Thus, it can represent the linear model with single layer. \n",
    "\n",
    "<img src=\"http://webpages.uncc.edu/mlee173/teach/itcs6156/images/class/mlp_linear.png\" width=400/>\n",
    "\n",
    "Considering the multiple outputs, we formulated this in matrix: \n",
    "\n",
    "$$\n",
    "\\begin{align}\n",
    "E &= \\frac{1}{N} \\frac{1}{K} \\sum_{n=1}^{N} \\sum_{k=1}^{K} (t_{nk} - y_{nk})^2 \\\\\n",
    "\\\\\n",
    "Ym &= Xlm \\cdot Wm\n",
    "\\end{align}\n",
    "$$\n",
    "\n",
    "Here, we assume the first column of $Xlm$ is the bias column with 1's.  \n",
    "Thus, the weight matrix $Wm$ is $(D+1) times K$ with the bias row in the first row.   \n",
    "\n",
    "From this model, we can convert the raw data $Xm$ to $Phiv$, which is a nonlinear mapping.\n",
    "\n",
    "$$\n",
    "phi: Xm \\rightarrow Phi\n",
    "$$\n",
    "\n",
    "Then, we can rewrite the linear model with as follows:\n",
    "\n",
    "$$\n",
    "\\begin{align}\n",
    "E &= \\frac{1}{N} \\frac{1}{K} \\sum_{n=1}^{N} \\sum_{k=1}^{K} (t_{nk} - y_{nk})^2 \n",
    "\\\\\n",
    "Ym &= Phiv Wm \\\\ \n",
    "\\\\\n",
    "Ym_{nk} &= Phiv_n^\\top Wm_k \n",
    "\\end{align}\n",
    "$$\n",
    "\n",
    "Now, let $phi(xv) = h(xv)$ where $h$ is the *activation function*.  \n",
    "\n",
    "$$\n",
    "\\begin{align}\n",
    "Zm &= h(Xlm \\cdot Vm) \\\\\n",
    "\\\\\n",
    "Ym & = Zlm \\cdot Wm \n",
    "\\end{align}\n",
    "$$\n",
    "\n",
    "Figure below depics this model. \n",
    "\n",
    "<img src=\"http://webpages.uncc.edu/mlee173/teach/itcs6156/images/class/nn.png\" width=500/>\n",
    "\n",
    "The size of each matrix is listed: \n",
    "- $Xm: N \\times D$\n",
    "- $Xlm: N \\times (D+1)$\n",
    "- $Vm: (D+1) \\times G$\n",
    "- $Zm: N \\times G$\n",
    "- $Zlm: N \\times (G+1)$\n",
    "- $Wm: (G+1) \\times K$\n",
    "- $Ym: N \\times K$\n",
    "\n",
    "For this two-layer network, we call the blue circle layer with the activation functions as **hidden layer** and the organge layer with summation as **output layer**.\n",
    "#### Summarize the nonlinear classification model. \n",
    "Previously, we learned the linear logistic regression that uses the softmax layer for classification along with a linear model. \n",
    "\n",
    "$$\n",
    "g_k(xv) = P(T=k \\mid xv) = \\frac{e^{\\kappa_k}}{\\sum_{c=1}^K e^{\\kappa_c}}\n",
    "$$\n",
    "\n",
    "By using this softmax function, we were able to generate probablistic outputs for all classes. To handle multi-label classes, we use the indicator target labels for training to update the weights for the linear model. \n",
    "Following the derivation, we have achieved the following update rule: \n",
    "\n",
    "\n",
    "\n",
    "$$\n",
    "wv_j \\leftarrow wv_j + \\alpha \\sum_{n=1}^{N} \\Big( t_{n,j} - g_j(xv_n)\\Big) xv_n.\n",
    "$$\n",
    "\n",
    "To update the weights with batch samples, we can convert this update rule in matrix form as follows:\n",
    "\n",
    "$$\n",
    "wv \\leftarrow wv + \\alpha Xm^\\top \\Big(  Tm - g(Xm)\\Big).\n",
    "$$\n",
    "\n",
    "Remember we start from the error function below for the derivation bvefore:\n",
    "\n",
    "$$\n",
    "E(wv) = - \\ln P(Tm \\mid wv) =  - \\sum_{n=1}^{N} \\sum_{k=1}^{K} t_{n,k} \\ln y_{n,k}.\n",
    "$$\n",
    "\n",
    "<img src=\"http://webpages.uncc.edu/mlee173/teach/itcs6156/images/class/linearlogreg.png\" width=450 />\n",
    "\n",
    "\n",
    "## III.A 5-fold Cross Validation\n",
    "\n",
    "\n",
    "### Summary of CV and Correctness of Implementation\n",
    "\n",
    "- In Cross Validation we divide the data into 5 equal parts since we are using 5-fold Cross validation.We use 4 parts for training and 1 part for Validation. Using each set as Test Set at a time and the rest as Validation and Train Set it will try to find the best model depending on the accuracies of each model. \n",
    "- The hyper-parameters of the model with the lowest error rate on Validation Set are selected and trained again and applied on the Test Set. Using this we find the best parameter list and then apply it on NeuralNet Class.\n",
    "\n",
    "### Implementation:\n",
    "\n",
    "- The following explanation is adopted from the below procedure as given in the class note.\n",
    ">  Choose K for K-fold cross validation.\n",
    "\n",
    ">  Set nfold = 0. \n",
    "\n",
    ">  Initialize the lists *res* = [], *testErrs* = [].\n",
    "\n",
    ">  Split data X and label T into K number of partitions.\n",
    "\n",
    ">  For each TEST partition \n",
    "\n",
    ">>  For each validation partition among the rest partitions \n",
    "\n",
    ">>>  Choose the rest partitions into a training set.\n",
    "\n",
    ">>>  For each set __P__ of parameters to test\n",
    "\n",
    ">>>>   Using __P__, train the model \n",
    "\n",
    ">>>>   Use the trained model on the validation data\n",
    "\n",
    ">>>>   Evaluate the validation result and store the restuls to *res*\n",
    "\n",
    ">>  From the *res* result, pick the one with the best result.\n",
    "\n",
    ">>  Retrain the model with the best parameter __p__ in __P__.\n",
    "\n",
    ">>  Apply the model with the best parameter __p*__ to the test dataset. \n",
    "\n",
    ">>  Evaluate the result *err* and store the tuple (__p*__, *err*) to *testErrs*. \n",
    "\n",
    ">  Return *testErrs*. \n",
    "\n",
    "* The function KFolds() partitions the data into k-folds.(here k is 5).\n",
    "* Then one fold is set aside for testing, leaving rest of the four sets for training and validation.\n",
    "* In cross_validate() the feature's set and the target labels are sent as input parameters, after selecting one as a validation set from the remaining, the left three folds are used  for training. \n",
    "* While selecting the hyper parameters we do the combination of selecting one  at a time, training the model and then validating against the Validation set, finding its error rate.\n",
    "- After all the four validation sets are applied to the model, minimum error rate is selected from the set and the hyper parameters that gave this accuracy is used again to train the model and it is applied to the test set and its accuracies are then stored in a bestaccuracies list as a tuple of the hyperparameter and its corresponding error. "
   ]
  },
  {
   "cell_type": "markdown",
   "metadata": {},
   "source": [
    "## Cross Validation"
   ]
  },
  {
   "cell_type": "code",
   "execution_count": 22,
   "metadata": {},
   "outputs": [],
   "source": [
    "data = df_r.sample(15000)"
   ]
  },
  {
   "cell_type": "code",
   "execution_count": 23,
   "metadata": {},
   "outputs": [
    {
     "data": {
      "text/html": [
       "<div>\n",
       "<style scoped>\n",
       "    .dataframe tbody tr th:only-of-type {\n",
       "        vertical-align: middle;\n",
       "    }\n",
       "\n",
       "    .dataframe tbody tr th {\n",
       "        vertical-align: top;\n",
       "    }\n",
       "\n",
       "    .dataframe thead th {\n",
       "        text-align: right;\n",
       "    }\n",
       "</style>\n",
       "<table border=\"1\" class=\"dataframe\">\n",
       "  <thead>\n",
       "    <tr style=\"text-align: right;\">\n",
       "      <th></th>\n",
       "      <th>carat</th>\n",
       "      <th>cut</th>\n",
       "      <th>color</th>\n",
       "      <th>clarity</th>\n",
       "      <th>depth</th>\n",
       "      <th>table</th>\n",
       "      <th>price</th>\n",
       "      <th>x</th>\n",
       "      <th>y</th>\n",
       "      <th>z</th>\n",
       "      <th>volume</th>\n",
       "    </tr>\n",
       "  </thead>\n",
       "  <tbody>\n",
       "    <tr>\n",
       "      <th>39423</th>\n",
       "      <td>0.41</td>\n",
       "      <td>Ideal</td>\n",
       "      <td>F</td>\n",
       "      <td>VS1</td>\n",
       "      <td>61.8</td>\n",
       "      <td>56.0</td>\n",
       "      <td>1076</td>\n",
       "      <td>4.79</td>\n",
       "      <td>4.75</td>\n",
       "      <td>2.95</td>\n",
       "      <td>67.119875</td>\n",
       "    </tr>\n",
       "    <tr>\n",
       "      <th>39146</th>\n",
       "      <td>0.41</td>\n",
       "      <td>Ideal</td>\n",
       "      <td>G</td>\n",
       "      <td>VS2</td>\n",
       "      <td>62.5</td>\n",
       "      <td>56.0</td>\n",
       "      <td>1061</td>\n",
       "      <td>4.75</td>\n",
       "      <td>4.72</td>\n",
       "      <td>2.96</td>\n",
       "      <td>66.363200</td>\n",
       "    </tr>\n",
       "    <tr>\n",
       "      <th>23457</th>\n",
       "      <td>1.53</td>\n",
       "      <td>Very Good</td>\n",
       "      <td>H</td>\n",
       "      <td>VS2</td>\n",
       "      <td>60.9</td>\n",
       "      <td>63.0</td>\n",
       "      <td>11452</td>\n",
       "      <td>7.37</td>\n",
       "      <td>7.41</td>\n",
       "      <td>4.50</td>\n",
       "      <td>245.752650</td>\n",
       "    </tr>\n",
       "    <tr>\n",
       "      <th>7822</th>\n",
       "      <td>1.00</td>\n",
       "      <td>Very Good</td>\n",
       "      <td>D</td>\n",
       "      <td>SI2</td>\n",
       "      <td>63.3</td>\n",
       "      <td>60.0</td>\n",
       "      <td>4295</td>\n",
       "      <td>6.29</td>\n",
       "      <td>6.19</td>\n",
       "      <td>3.95</td>\n",
       "      <td>153.793645</td>\n",
       "    </tr>\n",
       "    <tr>\n",
       "      <th>53196</th>\n",
       "      <td>0.70</td>\n",
       "      <td>Ideal</td>\n",
       "      <td>G</td>\n",
       "      <td>VS2</td>\n",
       "      <td>60.0</td>\n",
       "      <td>57.0</td>\n",
       "      <td>2633</td>\n",
       "      <td>5.80</td>\n",
       "      <td>5.84</td>\n",
       "      <td>3.49</td>\n",
       "      <td>118.213280</td>\n",
       "    </tr>\n",
       "  </tbody>\n",
       "</table>\n",
       "</div>"
      ],
      "text/plain": [
       "       carat        cut color clarity  depth  table  price     x     y     z  \\\n",
       "39423   0.41      Ideal     F     VS1   61.8   56.0   1076  4.79  4.75  2.95   \n",
       "39146   0.41      Ideal     G     VS2   62.5   56.0   1061  4.75  4.72  2.96   \n",
       "23457   1.53  Very Good     H     VS2   60.9   63.0  11452  7.37  7.41  4.50   \n",
       "7822    1.00  Very Good     D     SI2   63.3   60.0   4295  6.29  6.19  3.95   \n",
       "53196   0.70      Ideal     G     VS2   60.0   57.0   2633  5.80  5.84  3.49   \n",
       "\n",
       "           volume  \n",
       "39423   67.119875  \n",
       "39146   66.363200  \n",
       "23457  245.752650  \n",
       "7822   153.793645  \n",
       "53196  118.213280  "
      ]
     },
     "execution_count": 23,
     "metadata": {},
     "output_type": "execute_result"
    }
   ],
   "source": [
    "data.head()"
   ]
  },
  {
   "cell_type": "code",
   "execution_count": 24,
   "metadata": {},
   "outputs": [
    {
     "data": {
      "text/plain": [
       "(15000, 6)"
      ]
     },
     "execution_count": 24,
     "metadata": {},
     "output_type": "execute_result"
    }
   ],
   "source": [
    "X=data.loc[:,[\"carat\",\"depth\",\"price\",\"x\",\"y\",\"z\"]].values\n",
    "mux = np.mean(X,0)  \n",
    "sigmax = np.std(X,0)\n",
    "X= (X - mux) / sigmax \n",
    "X.shape"
   ]
  },
  {
   "cell_type": "code",
   "execution_count": 25,
   "metadata": {},
   "outputs": [
    {
     "data": {
      "text/plain": [
       "(15000, 1)"
      ]
     },
     "execution_count": 25,
     "metadata": {},
     "output_type": "execute_result"
    }
   ],
   "source": [
    "T=data.loc[:,[\"price\"]]\n",
    "mu = np.mean(T,0)  \n",
    "sigma = np.std(T,0)\n",
    "T = (T - mu) / sigma \n",
    "T= T.values.reshape(T.shape[0],1)\n",
    "T.shape"
   ]
  },
  {
   "cell_type": "code",
   "execution_count": 26,
   "metadata": {},
   "outputs": [],
   "source": [
    "from sklearn.model_selection import train_test_split\n",
    "X_train, X_test, y_train, y_test = train_test_split(X, T, test_size=0.2, random_state=0)"
   ]
  },
  {
   "cell_type": "code",
   "execution_count": 27,
   "metadata": {},
   "outputs": [],
   "source": [
    "from sklearn.metrics import mean_squared_error\n",
    "from nn import NeuralNet"
   ]
  },
  {
   "cell_type": "code",
   "execution_count": 28,
   "metadata": {},
   "outputs": [],
   "source": [
    "def get_k_folds(data):\n",
    "    fold_part = len(data) / 5.0\n",
    "    total_list = []\n",
    "    x = 0.0\n",
    "    while x < len(data):\n",
    "        total_list.append(data[int(x):int(x + fold_part)])\n",
    "        x += fold_part\n",
    "    return total_list"
   ]
  },
  {
   "cell_type": "code",
   "execution_count": 29,
   "metadata": {},
   "outputs": [],
   "source": [
    "best_paramlist = []\n",
    "final_list = []"
   ]
  },
  {
   "cell_type": "code",
   "execution_count": 30,
   "metadata": {},
   "outputs": [],
   "source": [
    "def cross_validate(X, y, parameters):\n",
    "    X_partitioned = get_k_folds(X)\n",
    "    y_partitioned = get_k_folds(y)\n",
    "    \n",
    "    for i in range(5): \n",
    "        X_test = X_partitioned[i]\n",
    "        y_test = y_partitioned[i]\n",
    "\n",
    "        total_rmse = []\n",
    "        params = [] \n",
    "        \n",
    "        for k in range(5):\n",
    "            if i == k: \n",
    "                continue \n",
    "            \n",
    "            X_val = X_partitioned[k]\n",
    "            y_val = y_partitioned[k]\n",
    "            \n",
    "            X_train = X_partitioned[not i and not k]\n",
    "            y_train = y_partitioned[not i and not k]\n",
    "            \n",
    "            paramlist = []\n",
    "            rmselist = []\n",
    "            for param in parameters:\n",
    "                \n",
    "                model = NeuralNet(param)\n",
    "                model.train(X_train, y_train)\n",
    "                pred = model.use(X_val)\n",
    "                \n",
    "                valid_err = np.sqrt(mean_squared_error(y_val, pred))\n",
    "                rmselist.append(valid_err)\n",
    "                paramlist.append(param)\n",
    "                \n",
    "            total_rmse.append(min(rmselist))\n",
    "            params.append(paramlist[np.argmin(rmselist)])\n",
    "         \n",
    "        best_param = paramlist[np.argmin(total_rmse)]\n",
    "        best_model = NeuralNet(best_param)\n",
    "        \n",
    "        X_train = X_partitioned[not i]\n",
    "        y_train = y_partitioned[not i]\n",
    "        best_model.train(X_train, y_train)\n",
    "\n",
    "        final_pred = best_model.use(X_test)\n",
    "        final_err = np.sqrt(mean_squared_error(y_test, final_pred))\n",
    "        final_list.append(final_err)\n",
    "        best_paramlist.append(best_param)\n",
    "\n",
    "    return final_list, best_paramlist"
   ]
  },
  {
   "cell_type": "code",
   "execution_count": 31,
   "metadata": {},
   "outputs": [],
   "source": [
    "models = [[6,3,1],[6,5,1],[6,7,1], [6,10,1], [6,12,1]]\n",
    "bestAccuracy,bestParam = cross_validate(np.array(X), np.array(T), models)"
   ]
  },
  {
   "cell_type": "code",
   "execution_count": 32,
   "metadata": {},
   "outputs": [
    {
     "name": "stdout",
     "output_type": "stream",
     "text": [
      "[0.004971772328953926, 0.002471793776092538, 0.0019975558819681732, 0.00488920073380127, 0.034901495158173486] [[6, 5, 1], [6, 3, 1], [6, 3, 1], [6, 5, 1], [6, 5, 1]]\n"
     ]
    }
   ],
   "source": [
    "print(bestAccuracy,bestParam)"
   ]
  },
  {
   "cell_type": "markdown",
   "metadata": {},
   "source": [
    "## III.B Nonlinear Regression \n",
    "\n",
    "- Summarize the nonlinear regression model. \n",
    "- Use the NeuralNet class for regression to apply to your data. \n",
    "- Explain your codes (not in comment). "
   ]
  },
  {
   "cell_type": "markdown",
   "metadata": {},
   "source": [
    "### Summarize the nonlinear regression model\n",
    "\n",
    "* Nonlinear regression is a form of regression analysis in which data is fit to a model and then expressed as a mathematical function. Simple linear regression relates two variables (X and Y) with a straight line (y = mx + b), while nonlinear regression must generate a line (typically a curve) as if every value of Y was a random variable. The goal of the model is to make the sum of the squares as small as possible. \n",
    "* The sum of squares is a measure that tracks how much observations vary from the mean of the data set. It is computed by first finding the difference between the mean and every point of data in the set. Then, each of those differences is squared. Lastly, all of the squared figures are added together. The smaller the sum of these squared figures, the better the function fits the data points in the set. Nonlinear regression uses logarithmic functions, trigonometric functions, exponential functions, and other fitting methods.\n",
    "* Nonlinear regression modeling is similar to linear regression modeling in that both seek to track a particular response from a set of variables graphically. Nonlinear models are more complicated than linear models to develop because the function is created through a series of approximations (iterations) that may stem from trial-and-error. Mathematicians use several established methods, such as the Gauss-Newton method and the Levenberg-Marquardt method.\n",
    "\n",
    "* Below I have called the NeuralNet Class from nn on the best parameters selected from Cross Validation."
   ]
  },
  {
   "cell_type": "code",
   "execution_count": 33,
   "metadata": {},
   "outputs": [
    {
     "data": {
      "text/plain": [
       "{'w': array([ 7.71113792e-02, -2.76148145e-01,  2.67941451e-01, -1.12935418e+00,\n",
       "        -7.33150284e-03, -1.22203478e+00,  9.04957480e-02,  3.55969626e-04,\n",
       "         1.13324612e-01, -1.51573840e+00,  1.79808715e-01, -1.25796279e+00,\n",
       "        -1.05950329e+00,  8.79217796e-03, -1.27983806e+00, -1.07068439e+00,\n",
       "         5.09148388e-06, -1.19596456e+00, -9.49477468e-01,  1.44271481e-03,\n",
       "        -1.18705633e+00,  1.50369298e+00, -2.44123745e-01,  5.69401906e+00,\n",
       "         2.24783738e-01]),\n",
       " 'f': 4.533057354135133e-05,\n",
       " 'reason': 'reached limit of nIterations',\n",
       " 'wtrace': None,\n",
       " 'ftrace': None}"
      ]
     },
     "execution_count": 33,
     "metadata": {},
     "output_type": "execute_result"
    }
   ],
   "source": [
    "neural_net = NeuralNet([6,3,1]) \n",
    "neural_net.train(X_train, y_train, niter=1000)"
   ]
  },
  {
   "cell_type": "markdown",
   "metadata": {},
   "source": [
    "### Explanation of Code\n",
    "\n",
    "#### NeuralNet class\n",
    "\n",
    "__init__ function: It inherits the same initialization class as NeuralNet\n",
    " \n",
    "forward() : It inherits the same initialization class. \n",
    "\n",
    "object_f() : It calculates the error by the log function. It also takes care of the the Y not being 0 by adding a small possible value(epsilon) to it because log of 0 is not defined.\n",
    "\n",
    "train() : It pre-processes the inputs and then trains it. This function is recursive function which calls itself. The target data that is being passed to this function is an indicator matrix which represents of the classes of the data in separate columns.\n",
    "\n",
    "use : applies the trained network to predict"
   ]
  },
  {
   "cell_type": "markdown",
   "metadata": {},
   "source": [
    "## III.C Nonlinear Logistic Regression\n",
    "\n",
    "- Summarize the nonlinear logistic regression model. \n",
    "- Finish the following NeuralNetLogReg class.\n",
    "- Check if your codes works well with toy synthetic data. \n",
    "- Apply to your classification data. \n",
    "- Explain your codes (not in comment). "
   ]
  },
  {
   "cell_type": "markdown",
   "metadata": {},
   "source": [
    "**Summarize the nonlinear logistic regression model.**\n",
    "\n",
    "The linear logistic regression that uses the softmax layer for classification along with a linear model. \n",
    "\n",
    "$$\n",
    "g_k(x) = P(T=k \\mid x) = \\frac{e^{\\kappa_k}}{\\sum_{c=1}^K e^{\\kappa_c}}\n",
    "$$\n",
    "\n",
    "By using this softmax function, we were able to generate probablistic outputs for all classes. To handle multi-label classes, we use the indicator target labels for training to update the weights for the linear model. \n",
    "Following the derivation, we have achieved the following update rule: \n",
    "\n",
    "\n",
    "\n",
    "$$\n",
    "w_j \\leftarrow wv_j + \\alpha \\sum_{n=1}^{N} \\Big( t_{n,j} - g_j(x_n)\\Big) x_n.\n",
    "$$\n",
    "\n",
    "To update the weights with batch samples, we can convert this update rule in matrix form as follows:\n",
    "\n",
    "$$\n",
    "w \\leftarrow w + \\alpha X^\\top \\Big(  T - g(X)\\Big).\n",
    "$$\n",
    "\n",
    "Remember we start from the error function below for the derivation bvefore:\n",
    "\n",
    "$$\n",
    "E(w) = - \\ln P(T \\mid w) =  - \\sum_{n=1}^{N} \\sum_{k=1}^{K} t_{n,k} \\ln y_{n,k}.\n",
    "$$\n",
    "\n",
    "\n",
    "#### Summary (Regression vs Classification)\n",
    "\n",
    "\n",
    "<table>\n",
    "<tr>\n",
    "<th></th>\n",
    "<th width=45%> Regression </th>\n",
    "<th width=45%> Classification </th>\n",
    "</tr>\n",
    "<tr>\n",
    "<td>\n",
    "Forward Pass \n",
    "</td>\n",
    "<td>\n",
    "$$\n",
    "\\begin{align}\n",
    "Zm &= h(Xlm \\cdot Vm) \\\\\n",
    "\\\\\n",
    "Ym & = Zlm \\cdot Wm \n",
    "\\end{align}\n",
    "$$\n",
    "</td>\n",
    "<td>\n",
    "$$\n",
    "\\begin{align}\n",
    "Zm &= h(Xlm \\cdot Vm) \\\\\n",
    "\\\\\n",
    "Ym & = Zlm \\cdot Wm \\\\\n",
    "Gm & = softmax(Ym)\n",
    "\\end{align}\n",
    "$$\n",
    "</td>\n",
    "</tr>\n",
    "<tr>\n",
    "<td>\n",
    " Backward Pass \n",
    "</td>\n",
    "<td>\n",
    "$$\n",
    "\\begin{align}\n",
    "Vm &leftarrow Vm + \\alpha_h \\frac{1}{N} \\frac{1}{K} Xlm^\\top \\Big( (Tm - Ym) Wm^\\top \\odot (1 - Zm^2) \\Big) \\\\\n",
    "Wm &leftarrow Wm + \\alpha_o \\frac{1}{N} \\frac{1}{K} Zlm^\\top \\Big( Tm - Ym \\Big) \n",
    "\\end{align}\n",
    "$$\n",
    "</td>\n",
    "<td>\n",
    "$$\n",
    "\\begin{align}\n",
    "Vm &\\leftarrow Vm + \\alpha_h Xlm^\\top \\Big( (Tm - Gm) Wm^\\top \\odot (1 - Zm^2) \\Big)\\\\\n",
    "Wm &\\leftarrow Wm + \\alpha_o Zlm^\\top \\Big(  Tm - Gm\\Big) \n",
    "\\end{align}\n",
    "$$\n",
    "</td>\n",
    "</tr>\n",
    "<tr>\n",
    "<td></td>\n",
    "<td></td>\n",
    "<td>\n",
    "Note: Here $Tm$ is a matrix with indicator variable outputs, <br/>\n",
    "and $Gm$ is the output matrix after the softmax layer.</td>\n",
    "</tr>\n",
    "</table> "
   ]
  },
  {
   "cell_type": "code",
   "execution_count": 34,
   "metadata": {},
   "outputs": [],
   "source": [
    "from nn import NeuralNet\n",
    "\n",
    "class NeuralNetLogReg(NeuralNet):\n",
    "    \"\"\" Nonlinear Logistic Regression\n",
    "    \"\"\"\n",
    "\n",
    "    # if you think, you need additional items to initialize here,\n",
    "    # add your code for it here\n",
    "    def __init__(self, nunits):\n",
    "        NeuralNet.__init__(self,nunits)\n",
    "\n",
    "   \n",
    "    def softmax(self,z):\n",
    "        if not isinstance(z, np.ndarray):\n",
    "            z = np.asarray(z)\n",
    "        f = np.exp(z) \n",
    "        return f / (np.sum(f, axis=1, keepdims=True) if len(z.shape) == 2 else np.sum(f)) \n",
    "    # Looking at the final summary or comparison table in lecture note,\n",
    "    # add your codes for forward pass for logistic regression\n",
    "    def forward(self, X):\n",
    "        t,z = NeuralNet.forward(self,X)\n",
    "        return self.softmax(t),z\n",
    "\n",
    "    # This is the error function that we want to minimize\n",
    "    # what was it? take a look at the lecture note to fill in\n",
    "    def _objectf(self, T, Y, wpenalty):\n",
    "        epsilon=1e-12\n",
    "        Y = np.clip(Y, epsilon, 1. - epsilon)\n",
    "        N = Y.shape[0]\n",
    "        ce = -np.sum(np.sum(T*np.log(Y+1e-9)))\n",
    "        return ce\n",
    "\n",
    "    # you must reuse the NeuralNet train since you already modified\n",
    "    # the objective or error function (maybe both), \n",
    "    # you do not have many to change here.\n",
    "    # MAKE SURE convert a vector label T to indicator matrix and \n",
    "    # feed that for training\n",
    "    def train(self, X, T, **params):\n",
    "        NeuralNet.train(self,X,T)\n",
    "\n",
    "    # going through forward pass, you will have the probabilities for each label\n",
    "    # now, you can use argmax to find class labels\n",
    "    # return both label and probabilities        \n",
    "    def use(self, X):\n",
    "        Xs = X\n",
    "        classes, probabilities = self.forward(Xs)\n",
    "        if self.stdT is None:\n",
    "            classes = self.stdT.unstandardize(classes)\n",
    "        return classes,np.argmax(classes,1) \n"
   ]
  },
  {
   "cell_type": "code",
   "execution_count": 35,
   "metadata": {},
   "outputs": [],
   "source": [
    "def add_ones(w):\n",
    "    return np.hstack((np.ones((w.shape[0], 1)), w))"
   ]
  },
  {
   "cell_type": "code",
   "execution_count": 36,
   "metadata": {},
   "outputs": [],
   "source": [
    "import numpy as np\n",
    "import matplotlib.pyplot as plt\n",
    "%matplotlib inline \n",
    "from grad import scg"
   ]
  },
  {
   "cell_type": "code",
   "execution_count": 37,
   "metadata": {},
   "outputs": [],
   "source": [
    "x = np.linspace(-3, 6, 1000)\n",
    "y = np.linspace(-3, 7, 1000)\n",
    "\n",
    "xs, ys = np.meshgrid(x, y)\n",
    "\n",
    "X = np.vstack((xs.flat, ys.flat)).T\n",
    "X1 = np.hstack((np.ones((X.shape[0], 1)), X))"
   ]
  },
  {
   "cell_type": "code",
   "execution_count": 38,
   "metadata": {},
   "outputs": [],
   "source": [
    "N1 = 50\n",
    "N2 = 50\n",
    "N = N1 + N2\n",
    "D = 2\n",
    "K = 2\n",
    "\n",
    "mu1 = [-1, -1]\n",
    "cov1 = np.eye(2)\n",
    "\n",
    "mu2 = [2,3]\n",
    "cov2 = np.eye(2) * 3"
   ]
  },
  {
   "cell_type": "code",
   "execution_count": 39,
   "metadata": {},
   "outputs": [
    {
     "data": {
      "text/plain": [
       "Text(0.5, 1.0, 'training data set')"
      ]
     },
     "execution_count": 39,
     "metadata": {},
     "output_type": "execute_result"
    },
    {
     "data": {
      "image/png": "[encoded data removed]",
      "text/plain": [
       "<Figure size 432x288 with 1 Axes>"
      ]
     },
     "metadata": {
      "needs_background": "light"
     },
     "output_type": "display_data"
    }
   ],
   "source": [
    "C1 = np.random.multivariate_normal(mu1, cov1, N1)\n",
    "C2 = np.random.multivariate_normal(mu2, cov2, N2)\n",
    "\n",
    "plt.plot(C1[:, 0], C1[:, 1], 'or')\n",
    "plt.plot(C2[:, 0], C2[:, 1], 'xb')\n",
    "\n",
    "plt.xlim([-3, 6])\n",
    "plt.ylim([-3, 7])\n",
    "plt.title(\"training data set\")"
   ]
  },
  {
   "cell_type": "code",
   "execution_count": 40,
   "metadata": {},
   "outputs": [],
   "source": [
    "Xtrain = np.vstack((C1, C2))\n",
    "Ttrain = np.zeros((N, 1))\n",
    "Ttrain[50:, :] = 1  # labels are zero or one\n",
    "\n",
    "means, stds = np.mean(Xtrain, 0), np.std(Xtrain, 0)\n",
    "# normalize inputs\n",
    "Xtrains = (Xtrain - means) / stds"
   ]
  },
  {
   "cell_type": "code",
   "execution_count": 41,
   "metadata": {},
   "outputs": [],
   "source": [
    "Ct1 = np.random.multivariate_normal(mu1, cov1, 20)\n",
    "Ct2 = np.random.multivariate_normal(mu2, cov2, 20)\n",
    "\n",
    "Xtest = np.vstack((Ct1, Ct2))\n",
    "Ttest = np.zeros((40, 1))\n",
    "Ttest[20:, :] = 1"
   ]
  },
  {
   "cell_type": "code",
   "execution_count": 42,
   "metadata": {},
   "outputs": [
    {
     "data": {
      "image/png": "[encoded data removed]",
      "text/plain": [
       "<Figure size 432x288 with 1 Axes>"
      ]
     },
     "metadata": {
      "needs_background": "light"
     },
     "output_type": "display_data"
    }
   ],
   "source": [
    "Xtests = (Xtrain - means) / stds\n",
    "\n",
    "plt.figure()\n",
    "plt.plot(Ct1[:, 0], Ct1[:, 1], 'or')\n",
    "plt.plot(Ct2[:, 0], Ct2[:, 1], 'xb')\n",
    "plt.xlim([-3, 6])\n",
    "plt.ylim([-3, 7])\n",
    "plt.title(\"test data set\")\n",
    "plt.show() \n",
    "net = NeuralNetLogReg([2,6,2])\n",
    "for i in range(5):\n",
    "    net.train(Xtrain,Ttrain)"
   ]
  },
  {
   "cell_type": "code",
   "execution_count": 43,
   "metadata": {},
   "outputs": [],
   "source": [
    "classes,z = net.use(Xtest)"
   ]
  },
  {
   "cell_type": "code",
   "execution_count": 44,
   "metadata": {},
   "outputs": [],
   "source": [
    "# show me the boundary\n",
    "x = np.linspace(-3, 6, 1000)\n",
    "y = np.linspace(-3, 7, 1000)\n",
    "xs, ys = np.meshgrid(x, y)\n",
    "X = np.vstack((xs.flat, ys.flat)).T\n",
    "X1 = np.hstack((np.ones((X.shape[0], 1)), X))\n",
    "classes,z= net.use(X)"
   ]
  },
  {
   "cell_type": "code",
   "execution_count": 45,
   "metadata": {},
   "outputs": [
    {
     "data": {
      "image/png": "[encoded data removed]",
      "text/plain": [
       "<Figure size 432x432 with 1 Axes>"
      ]
     },
     "metadata": {
      "needs_background": "light"
     },
     "output_type": "display_data"
    }
   ],
   "source": [
    "plt.figure(figsize=(6,6))\n",
    "plt.contourf(xs, ys, z.reshape(xs.shape))\n",
    "plt.title(\"Decision Boundary\")\n",
    "plt.plot(Ct1[:, 0], Ct1[:, 1], 'or')\n",
    "plt.plot(Ct2[:, 0], Ct2[:, 1], 'xb')\n",
    "plt.show()"
   ]
  },
  {
   "cell_type": "code",
   "execution_count": 46,
   "metadata": {},
   "outputs": [],
   "source": [
    "df2  = pd.read_csv('bank.csv')"
   ]
  },
  {
   "cell_type": "code",
   "execution_count": 47,
   "metadata": {},
   "outputs": [
    {
     "data": {
      "text/html": [
       "<div>\n",
       "<style scoped>\n",
       "    .dataframe tbody tr th:only-of-type {\n",
       "        vertical-align: middle;\n",
       "    }\n",
       "\n",
       "    .dataframe tbody tr th {\n",
       "        vertical-align: top;\n",
       "    }\n",
       "\n",
       "    .dataframe thead th {\n",
       "        text-align: right;\n",
       "    }\n",
       "</style>\n",
       "<table border=\"1\" class=\"dataframe\">\n",
       "  <thead>\n",
       "    <tr style=\"text-align: right;\">\n",
       "      <th></th>\n",
       "      <th>age</th>\n",
       "      <th>job</th>\n",
       "      <th>marital</th>\n",
       "      <th>education</th>\n",
       "      <th>default</th>\n",
       "      <th>balance</th>\n",
       "      <th>housing</th>\n",
       "      <th>loan</th>\n",
       "      <th>contact</th>\n",
       "      <th>day</th>\n",
       "      <th>month</th>\n",
       "      <th>duration</th>\n",
       "      <th>campaign</th>\n",
       "      <th>pdays</th>\n",
       "      <th>previous</th>\n",
       "      <th>poutcome</th>\n",
       "      <th>deposit</th>\n",
       "    </tr>\n",
       "  </thead>\n",
       "  <tbody>\n",
       "    <tr>\n",
       "      <th>0</th>\n",
       "      <td>59</td>\n",
       "      <td>admin.</td>\n",
       "      <td>married</td>\n",
       "      <td>secondary</td>\n",
       "      <td>no</td>\n",
       "      <td>2343</td>\n",
       "      <td>yes</td>\n",
       "      <td>no</td>\n",
       "      <td>unknown</td>\n",
       "      <td>5</td>\n",
       "      <td>may</td>\n",
       "      <td>1042</td>\n",
       "      <td>1</td>\n",
       "      <td>-1</td>\n",
       "      <td>0</td>\n",
       "      <td>unknown</td>\n",
       "      <td>yes</td>\n",
       "    </tr>\n",
       "    <tr>\n",
       "      <th>1</th>\n",
       "      <td>56</td>\n",
       "      <td>admin.</td>\n",
       "      <td>married</td>\n",
       "      <td>secondary</td>\n",
       "      <td>no</td>\n",
       "      <td>45</td>\n",
       "      <td>no</td>\n",
       "      <td>no</td>\n",
       "      <td>unknown</td>\n",
       "      <td>5</td>\n",
       "      <td>may</td>\n",
       "      <td>1467</td>\n",
       "      <td>1</td>\n",
       "      <td>-1</td>\n",
       "      <td>0</td>\n",
       "      <td>unknown</td>\n",
       "      <td>yes</td>\n",
       "    </tr>\n",
       "    <tr>\n",
       "      <th>2</th>\n",
       "      <td>41</td>\n",
       "      <td>technician</td>\n",
       "      <td>married</td>\n",
       "      <td>secondary</td>\n",
       "      <td>no</td>\n",
       "      <td>1270</td>\n",
       "      <td>yes</td>\n",
       "      <td>no</td>\n",
       "      <td>unknown</td>\n",
       "      <td>5</td>\n",
       "      <td>may</td>\n",
       "      <td>1389</td>\n",
       "      <td>1</td>\n",
       "      <td>-1</td>\n",
       "      <td>0</td>\n",
       "      <td>unknown</td>\n",
       "      <td>yes</td>\n",
       "    </tr>\n",
       "    <tr>\n",
       "      <th>3</th>\n",
       "      <td>55</td>\n",
       "      <td>services</td>\n",
       "      <td>married</td>\n",
       "      <td>secondary</td>\n",
       "      <td>no</td>\n",
       "      <td>2476</td>\n",
       "      <td>yes</td>\n",
       "      <td>no</td>\n",
       "      <td>unknown</td>\n",
       "      <td>5</td>\n",
       "      <td>may</td>\n",
       "      <td>579</td>\n",
       "      <td>1</td>\n",
       "      <td>-1</td>\n",
       "      <td>0</td>\n",
       "      <td>unknown</td>\n",
       "      <td>yes</td>\n",
       "    </tr>\n",
       "    <tr>\n",
       "      <th>4</th>\n",
       "      <td>54</td>\n",
       "      <td>admin.</td>\n",
       "      <td>married</td>\n",
       "      <td>tertiary</td>\n",
       "      <td>no</td>\n",
       "      <td>184</td>\n",
       "      <td>no</td>\n",
       "      <td>no</td>\n",
       "      <td>unknown</td>\n",
       "      <td>5</td>\n",
       "      <td>may</td>\n",
       "      <td>673</td>\n",
       "      <td>2</td>\n",
       "      <td>-1</td>\n",
       "      <td>0</td>\n",
       "      <td>unknown</td>\n",
       "      <td>yes</td>\n",
       "    </tr>\n",
       "  </tbody>\n",
       "</table>\n",
       "</div>"
      ],
      "text/plain": [
       "   age         job  marital  education default  balance housing loan  contact  \\\n",
       "0   59      admin.  married  secondary      no     2343     yes   no  unknown   \n",
       "1   56      admin.  married  secondary      no       45      no   no  unknown   \n",
       "2   41  technician  married  secondary      no     1270     yes   no  unknown   \n",
       "3   55    services  married  secondary      no     2476     yes   no  unknown   \n",
       "4   54      admin.  married   tertiary      no      184      no   no  unknown   \n",
       "\n",
       "   day month  duration  campaign  pdays  previous poutcome deposit  \n",
       "0    5   may      1042         1     -1         0  unknown     yes  \n",
       "1    5   may      1467         1     -1         0  unknown     yes  \n",
       "2    5   may      1389         1     -1         0  unknown     yes  \n",
       "3    5   may       579         1     -1         0  unknown     yes  \n",
       "4    5   may       673         2     -1         0  unknown     yes  "
      ]
     },
     "execution_count": 47,
     "metadata": {},
     "output_type": "execute_result"
    }
   ],
   "source": [
    "df2.head()"
   ]
  },
  {
   "cell_type": "code",
   "execution_count": 48,
   "metadata": {},
   "outputs": [],
   "source": [
    "df2 = df2.drop(columns=['default', 'loan','contact','poutcome','job','previous','pdays'])"
   ]
  },
  {
   "cell_type": "code",
   "execution_count": 49,
   "metadata": {},
   "outputs": [
    {
     "data": {
      "text/plain": [
       "(11162, 10)"
      ]
     },
     "execution_count": 49,
     "metadata": {},
     "output_type": "execute_result"
    }
   ],
   "source": [
    "encoding_dict = {\"marital\" : {\"single\":1 , \"married\":2 , \"divorced\":3},\n",
    "                 \"housing\" : {\"no\": -1 , \"yes\": 1},\n",
    "                 \"month\" : {\"jan\":1,\"feb\":2,\"mar\":3,\"apr\":4,\"may\":5,\"jun\":6,\"jul\":7,\"aug\":8,\"sep\":9,\"oct\":10,\"nov\":11,\"dec\":12},\n",
    "                 \"deposit\": {\"no\":0,\"yes\":1},\n",
    "                 \"education\" :{\"unknown\":0,\"primary\":1,\"secondary\":2,\"tertiary\":3}\n",
    "                }\n",
    "df2.replace(encoding_dict, inplace = True)\n",
    "df2.head()\n",
    "df2.shape"
   ]
  },
  {
   "cell_type": "code",
   "execution_count": 50,
   "metadata": {},
   "outputs": [],
   "source": [
    "def normalize(X):\n",
    "    return (X/X.max())"
   ]
  },
  {
   "cell_type": "code",
   "execution_count": 51,
   "metadata": {},
   "outputs": [
    {
     "data": {
      "text/plain": [
       "'df2[\"month\"] = normalize(df2[\"month\"])\\ndf2[\"duration\"] = normalize(df2[\"duration\"])\\ndf2[\"campaign\"] = normalize(df2[\"campaign\"])\\ndf2[\"day\"] = normalize(df2[\"day\"])\\ndf2[\"age\"] = normalize(df2[\"age\"])\\ndf2[\"marital\"] = normalize(df2[\"marital\"])\\ndf2[\"education\"] = normalize(df2[\"education\"])\\ndf2[\"balance\"] = normalize(df2[\"balance\"])\\ndf2[\"housing\"] = normalize(df2[\"housing\"])\\ndf2.head()\\ndf2.shape'"
      ]
     },
     "execution_count": 51,
     "metadata": {},
     "output_type": "execute_result"
    }
   ],
   "source": [
    "\"\"\"df2[\"month\"] = normalize(df2[\"month\"])\n",
    "df2[\"duration\"] = normalize(df2[\"duration\"])\n",
    "df2[\"campaign\"] = normalize(df2[\"campaign\"])\n",
    "df2[\"day\"] = normalize(df2[\"day\"])\n",
    "df2[\"age\"] = normalize(df2[\"age\"])\n",
    "df2[\"marital\"] = normalize(df2[\"marital\"])\n",
    "df2[\"education\"] = normalize(df2[\"education\"])\n",
    "df2[\"balance\"] = normalize(df2[\"balance\"])\n",
    "df2[\"housing\"] = normalize(df2[\"housing\"])\n",
    "df2.head()\n",
    "df2.shape\"\"\""
   ]
  },
  {
   "cell_type": "code",
   "execution_count": 52,
   "metadata": {},
   "outputs": [],
   "source": [
    "data = df2.sample(10000)"
   ]
  },
  {
   "cell_type": "code",
   "execution_count": 53,
   "metadata": {},
   "outputs": [
    {
     "data": {
      "text/html": [
       "<div>\n",
       "<style scoped>\n",
       "    .dataframe tbody tr th:only-of-type {\n",
       "        vertical-align: middle;\n",
       "    }\n",
       "\n",
       "    .dataframe tbody tr th {\n",
       "        vertical-align: top;\n",
       "    }\n",
       "\n",
       "    .dataframe thead th {\n",
       "        text-align: right;\n",
       "    }\n",
       "</style>\n",
       "<table border=\"1\" class=\"dataframe\">\n",
       "  <thead>\n",
       "    <tr style=\"text-align: right;\">\n",
       "      <th></th>\n",
       "      <th>age</th>\n",
       "      <th>marital</th>\n",
       "      <th>education</th>\n",
       "      <th>balance</th>\n",
       "      <th>housing</th>\n",
       "      <th>day</th>\n",
       "      <th>month</th>\n",
       "      <th>duration</th>\n",
       "      <th>campaign</th>\n",
       "      <th>deposit</th>\n",
       "    </tr>\n",
       "  </thead>\n",
       "  <tbody>\n",
       "    <tr>\n",
       "      <th>97</th>\n",
       "      <td>41</td>\n",
       "      <td>2</td>\n",
       "      <td>2</td>\n",
       "      <td>501</td>\n",
       "      <td>1</td>\n",
       "      <td>19</td>\n",
       "      <td>5</td>\n",
       "      <td>579</td>\n",
       "      <td>5</td>\n",
       "      <td>1</td>\n",
       "    </tr>\n",
       "    <tr>\n",
       "      <th>5656</th>\n",
       "      <td>34</td>\n",
       "      <td>2</td>\n",
       "      <td>2</td>\n",
       "      <td>79</td>\n",
       "      <td>1</td>\n",
       "      <td>23</td>\n",
       "      <td>5</td>\n",
       "      <td>83</td>\n",
       "      <td>1</td>\n",
       "      <td>0</td>\n",
       "    </tr>\n",
       "    <tr>\n",
       "      <th>2813</th>\n",
       "      <td>60</td>\n",
       "      <td>2</td>\n",
       "      <td>2</td>\n",
       "      <td>10925</td>\n",
       "      <td>-1</td>\n",
       "      <td>23</td>\n",
       "      <td>10</td>\n",
       "      <td>270</td>\n",
       "      <td>3</td>\n",
       "      <td>1</td>\n",
       "    </tr>\n",
       "    <tr>\n",
       "      <th>9917</th>\n",
       "      <td>36</td>\n",
       "      <td>2</td>\n",
       "      <td>2</td>\n",
       "      <td>4613</td>\n",
       "      <td>-1</td>\n",
       "      <td>2</td>\n",
       "      <td>4</td>\n",
       "      <td>320</td>\n",
       "      <td>1</td>\n",
       "      <td>0</td>\n",
       "    </tr>\n",
       "    <tr>\n",
       "      <th>605</th>\n",
       "      <td>38</td>\n",
       "      <td>3</td>\n",
       "      <td>2</td>\n",
       "      <td>1817</td>\n",
       "      <td>1</td>\n",
       "      <td>28</td>\n",
       "      <td>7</td>\n",
       "      <td>1096</td>\n",
       "      <td>4</td>\n",
       "      <td>1</td>\n",
       "    </tr>\n",
       "  </tbody>\n",
       "</table>\n",
       "</div>"
      ],
      "text/plain": [
       "      age  marital  education  balance  housing  day  month  duration  \\\n",
       "97     41        2          2      501        1   19      5       579   \n",
       "5656   34        2          2       79        1   23      5        83   \n",
       "2813   60        2          2    10925       -1   23     10       270   \n",
       "9917   36        2          2     4613       -1    2      4       320   \n",
       "605    38        3          2     1817        1   28      7      1096   \n",
       "\n",
       "      campaign  deposit  \n",
       "97           5        1  \n",
       "5656         1        0  \n",
       "2813         3        1  \n",
       "9917         1        0  \n",
       "605          4        1  "
      ]
     },
     "execution_count": 53,
     "metadata": {},
     "output_type": "execute_result"
    }
   ],
   "source": [
    "data.head()"
   ]
  },
  {
   "cell_type": "code",
   "execution_count": 54,
   "metadata": {},
   "outputs": [
    {
     "data": {
      "text/plain": [
       "(10000, 9)"
      ]
     },
     "execution_count": 54,
     "metadata": {},
     "output_type": "execute_result"
    }
   ],
   "source": [
    "X=data.iloc[:,0:-1]\n",
    "X = X.as_matrix()\n",
    "X.shape"
   ]
  },
  {
   "cell_type": "code",
   "execution_count": 55,
   "metadata": {},
   "outputs": [
    {
     "data": {
      "text/plain": [
       "(10000, 1)"
      ]
     },
     "execution_count": 55,
     "metadata": {},
     "output_type": "execute_result"
    }
   ],
   "source": [
    "T=data.iloc[:,-1]\n",
    "T = T.as_matrix()\n",
    "T = T.reshape(T.shape[0],1)\n",
    "T.shape"
   ]
  },
  {
   "cell_type": "code",
   "execution_count": 56,
   "metadata": {},
   "outputs": [],
   "source": [
    "from sklearn.model_selection import train_test_split\n",
    "X_train, X_test, T_train, T_test = train_test_split(X, T, test_size=0.2, random_state=42)"
   ]
  },
  {
   "cell_type": "code",
   "execution_count": 57,
   "metadata": {},
   "outputs": [
    {
     "name": "stdout",
     "output_type": "stream",
     "text": [
      "(8000, 9)\n",
      "(2000, 9)\n",
      "(8000, 1)\n",
      "(2000, 1)\n"
     ]
    }
   ],
   "source": [
    "print(X_train.shape)\n",
    "print(X_test.shape)\n",
    "print(T_train.shape)\n",
    "print(T_test.shape)"
   ]
  },
  {
   "cell_type": "code",
   "execution_count": 58,
   "metadata": {},
   "outputs": [
    {
     "name": "stdout",
     "output_type": "stream",
     "text": [
      "(8000, 2)\n"
     ]
    }
   ],
   "source": [
    "T = add_ones(np.array(T_train).reshape(-1,1))\n",
    "(T[:,0])[T[:,1]==1] = 0\n",
    "print(T.shape)"
   ]
  },
  {
   "cell_type": "code",
   "execution_count": 59,
   "metadata": {},
   "outputs": [],
   "source": [
    "obj_log = NeuralNetLogReg([9, 4, 2])\n",
    "obj_log.train(X_train, T_train)\n",
    "Classes,Z = obj_log.use(X_test[0:400])"
   ]
  },
  {
   "cell_type": "code",
   "execution_count": 60,
   "metadata": {},
   "outputs": [
    {
     "name": "stdout",
     "output_type": "stream",
     "text": [
      "[[9.99992459e-01 7.54139639e-06]\n",
      " [9.99992459e-01 7.54139639e-06]\n",
      " [9.99992459e-01 7.54139639e-06]\n",
      " [9.99992459e-01 7.54139639e-06]\n",
      " [9.99992459e-01 7.54139639e-06]\n",
      " [9.99992459e-01 7.54139639e-06]\n",
      " [9.99992459e-01 7.54139639e-06]\n",
      " [9.99992459e-01 7.54139639e-06]\n",
      " [9.99992459e-01 7.54139639e-06]\n",
      " [9.99992459e-01 7.54139639e-06]\n",
      " [9.99992459e-01 7.54139639e-06]\n",
      " [9.99992459e-01 7.54139639e-06]\n",
      " [9.99992459e-01 7.54139639e-06]\n",
      " [9.99992459e-01 7.54139639e-06]\n",
      " [9.99992459e-01 7.54139639e-06]\n",
      " [9.99992459e-01 7.54139639e-06]\n",
      " [9.99992459e-01 7.54139639e-06]\n",
      " [9.99992459e-01 7.54139639e-06]\n",
      " [9.99992459e-01 7.54139639e-06]\n",
      " [9.99992459e-01 7.54139639e-06]\n",
      " [9.99992459e-01 7.54139639e-06]\n",
      " [9.99992459e-01 7.54139639e-06]\n",
      " [9.99992459e-01 7.54139639e-06]\n",
      " [9.99992459e-01 7.54139639e-06]\n",
      " [9.99992459e-01 7.54139639e-06]\n",
      " [9.99992459e-01 7.54139639e-06]\n",
      " [9.99992459e-01 7.54139639e-06]\n",
      " [9.99992459e-01 7.54139639e-06]\n",
      " [9.99992459e-01 7.54139639e-06]\n",
      " [9.99992459e-01 7.54139639e-06]\n",
      " [9.99992459e-01 7.54139639e-06]\n",
      " [9.99992459e-01 7.54139639e-06]\n",
      " [9.99992459e-01 7.54139639e-06]\n",
      " [9.99992459e-01 7.54139639e-06]\n",
      " [9.99992459e-01 7.54139639e-06]\n",
      " [9.99992459e-01 7.54139639e-06]\n",
      " [9.99992459e-01 7.54139639e-06]\n",
      " [9.99992459e-01 7.54139639e-06]\n",
      " [9.99992459e-01 7.54139639e-06]\n",
      " [9.99992459e-01 7.54139639e-06]\n",
      " [9.99992459e-01 7.54139639e-06]\n",
      " [9.99992459e-01 7.54139639e-06]\n",
      " [9.99992459e-01 7.54139639e-06]\n",
      " [9.99992459e-01 7.54139639e-06]\n",
      " [9.99992459e-01 7.54139639e-06]\n",
      " [9.99992459e-01 7.54139639e-06]\n",
      " [9.99992459e-01 7.54139639e-06]\n",
      " [9.99992459e-01 7.54139639e-06]\n",
      " [9.99992459e-01 7.54139639e-06]\n",
      " [9.99992459e-01 7.54139639e-06]\n",
      " [9.99992459e-01 7.54139639e-06]\n",
      " [9.99992459e-01 7.54139639e-06]\n",
      " [9.99992459e-01 7.54139639e-06]\n",
      " [9.99992459e-01 7.54139639e-06]\n",
      " [9.99992459e-01 7.54139639e-06]\n",
      " [9.99992459e-01 7.54139639e-06]\n",
      " [9.99992459e-01 7.54139639e-06]\n",
      " [9.99992459e-01 7.54139639e-06]\n",
      " [9.99992459e-01 7.54139639e-06]\n",
      " [9.99992459e-01 7.54139639e-06]\n",
      " [9.99992459e-01 7.54139639e-06]\n",
      " [9.99992459e-01 7.54139639e-06]\n",
      " [9.99992459e-01 7.54139639e-06]\n",
      " [9.99992459e-01 7.54139639e-06]\n",
      " [9.99992459e-01 7.54139639e-06]\n",
      " [9.99992459e-01 7.54139639e-06]\n",
      " [9.99992459e-01 7.54139639e-06]\n",
      " [9.99992459e-01 7.54139639e-06]\n",
      " [9.99992459e-01 7.54139639e-06]\n",
      " [9.99992459e-01 7.54139639e-06]\n",
      " [9.99992459e-01 7.54139639e-06]\n",
      " [9.99992459e-01 7.54139639e-06]\n",
      " [9.99992459e-01 7.54139639e-06]\n",
      " [9.99992459e-01 7.54139639e-06]\n",
      " [9.99992459e-01 7.54139639e-06]\n",
      " [9.99992459e-01 7.54139639e-06]\n",
      " [9.99992459e-01 7.54139639e-06]\n",
      " [9.99992459e-01 7.54139639e-06]\n",
      " [9.99992459e-01 7.54139639e-06]\n",
      " [9.99992459e-01 7.54139639e-06]\n",
      " [9.99992459e-01 7.54139639e-06]\n",
      " [9.99992459e-01 7.54139639e-06]\n",
      " [9.99992459e-01 7.54139639e-06]\n",
      " [9.99992459e-01 7.54139639e-06]\n",
      " [9.99992459e-01 7.54139639e-06]\n",
      " [9.99992459e-01 7.54139639e-06]\n",
      " [9.99992459e-01 7.54139639e-06]\n",
      " [9.99992459e-01 7.54139639e-06]\n",
      " [9.99992459e-01 7.54139639e-06]\n",
      " [9.99992459e-01 7.54139639e-06]\n",
      " [9.99992459e-01 7.54139639e-06]\n",
      " [9.99992459e-01 7.54139639e-06]\n",
      " [9.99992459e-01 7.54139639e-06]\n",
      " [9.99992459e-01 7.54139639e-06]\n",
      " [9.99992459e-01 7.54139639e-06]\n",
      " [9.99992459e-01 7.54139639e-06]\n",
      " [9.99992459e-01 7.54139639e-06]\n",
      " [9.99992459e-01 7.54139639e-06]\n",
      " [9.99992459e-01 7.54139639e-06]\n",
      " [9.99992459e-01 7.54139639e-06]\n",
      " [9.99992459e-01 7.54139639e-06]\n",
      " [9.99992459e-01 7.54139639e-06]\n",
      " [9.99992459e-01 7.54139639e-06]\n",
      " [9.99992459e-01 7.54139639e-06]\n",
      " [9.99992459e-01 7.54139639e-06]\n",
      " [9.99992459e-01 7.54139639e-06]\n",
      " [9.99992459e-01 7.54139639e-06]\n",
      " [9.99992459e-01 7.54139639e-06]\n",
      " [9.99992459e-01 7.54139639e-06]\n",
      " [9.99992459e-01 7.54139639e-06]\n",
      " [9.99992459e-01 7.54139639e-06]\n",
      " [9.99992459e-01 7.54139639e-06]\n",
      " [9.99992459e-01 7.54139639e-06]\n",
      " [9.99992459e-01 7.54139639e-06]\n",
      " [9.99992459e-01 7.54139639e-06]\n",
      " [9.99992459e-01 7.54139639e-06]\n",
      " [9.99992459e-01 7.54139639e-06]\n",
      " [9.99992459e-01 7.54139639e-06]\n",
      " [9.99992459e-01 7.54139639e-06]\n",
      " [9.99992459e-01 7.54139639e-06]\n",
      " [9.99992459e-01 7.54139639e-06]\n",
      " [9.99992459e-01 7.54139639e-06]\n",
      " [9.99992459e-01 7.54139639e-06]\n",
      " [9.99992459e-01 7.54139639e-06]\n",
      " [9.99992459e-01 7.54139639e-06]\n",
      " [9.99992459e-01 7.54139639e-06]\n",
      " [9.99992459e-01 7.54139639e-06]\n",
      " [9.99992459e-01 7.54139639e-06]\n",
      " [9.99992459e-01 7.54139639e-06]\n",
      " [9.99992459e-01 7.54139639e-06]\n",
      " [9.99992459e-01 7.54139639e-06]\n",
      " [9.99992459e-01 7.54139639e-06]\n",
      " [9.99992459e-01 7.54139639e-06]\n",
      " [9.99992459e-01 7.54139639e-06]\n",
      " [9.99992459e-01 7.54139639e-06]\n",
      " [9.99992459e-01 7.54139639e-06]\n",
      " [9.99992459e-01 7.54139639e-06]\n",
      " [9.99992459e-01 7.54139639e-06]\n",
      " [9.99992459e-01 7.54139639e-06]\n",
      " [9.99992459e-01 7.54139639e-06]\n",
      " [9.99992459e-01 7.54139639e-06]\n",
      " [9.99992459e-01 7.54139639e-06]\n",
      " [9.99992459e-01 7.54139639e-06]\n",
      " [9.99992459e-01 7.54139639e-06]\n",
      " [9.99992459e-01 7.54139639e-06]\n",
      " [9.99992459e-01 7.54139639e-06]\n",
      " [9.99992459e-01 7.54139639e-06]\n",
      " [9.99992459e-01 7.54139639e-06]\n",
      " [9.99992459e-01 7.54139639e-06]\n",
      " [9.99992459e-01 7.54139639e-06]\n",
      " [9.99992459e-01 7.54139639e-06]\n",
      " [9.99992459e-01 7.54139639e-06]\n",
      " [9.99992459e-01 7.54139639e-06]\n",
      " [9.99992459e-01 7.54139639e-06]\n",
      " [9.99992459e-01 7.54139639e-06]\n",
      " [9.99992459e-01 7.54139639e-06]\n",
      " [9.99992459e-01 7.54139639e-06]\n",
      " [9.99992459e-01 7.54139639e-06]\n",
      " [9.99992459e-01 7.54139639e-06]\n",
      " [9.99992459e-01 7.54139639e-06]\n",
      " [9.99992459e-01 7.54139639e-06]\n",
      " [9.99992459e-01 7.54139639e-06]\n",
      " [9.99992459e-01 7.54139639e-06]\n",
      " [9.99992459e-01 7.54139639e-06]\n",
      " [9.99992459e-01 7.54139639e-06]\n",
      " [9.99992459e-01 7.54139639e-06]\n",
      " [9.99992459e-01 7.54139639e-06]\n",
      " [9.99992459e-01 7.54139639e-06]\n",
      " [9.99992459e-01 7.54139639e-06]\n",
      " [9.99992459e-01 7.54139639e-06]\n",
      " [9.99992459e-01 7.54139639e-06]\n",
      " [9.99992459e-01 7.54139639e-06]\n",
      " [9.99992459e-01 7.54139639e-06]\n",
      " [9.99992459e-01 7.54139639e-06]\n",
      " [9.99992459e-01 7.54139639e-06]\n",
      " [9.99992459e-01 7.54139639e-06]\n",
      " [9.99992459e-01 7.54139639e-06]\n",
      " [9.99992459e-01 7.54139639e-06]\n",
      " [9.99992459e-01 7.54139639e-06]\n",
      " [9.99992459e-01 7.54139639e-06]\n",
      " [9.99992459e-01 7.54139639e-06]\n",
      " [9.99992459e-01 7.54139639e-06]\n",
      " [9.99992459e-01 7.54139639e-06]\n",
      " [9.99992459e-01 7.54139639e-06]\n",
      " [9.99992459e-01 7.54139639e-06]\n",
      " [9.99992459e-01 7.54139639e-06]\n",
      " [9.99992459e-01 7.54139639e-06]\n",
      " [9.99992459e-01 7.54139639e-06]\n",
      " [9.99992459e-01 7.54139639e-06]\n",
      " [9.99992459e-01 7.54139639e-06]\n",
      " [9.99992459e-01 7.54139639e-06]\n",
      " [9.99992459e-01 7.54139639e-06]\n",
      " [9.99992459e-01 7.54139639e-06]\n",
      " [9.99992459e-01 7.54139639e-06]\n",
      " [9.99992459e-01 7.54139639e-06]\n",
      " [9.99992459e-01 7.54139639e-06]\n",
      " [9.99992459e-01 7.54139639e-06]\n",
      " [9.99992459e-01 7.54139639e-06]\n",
      " [9.99992459e-01 7.54139639e-06]\n",
      " [9.99992459e-01 7.54139639e-06]\n",
      " [9.99992459e-01 7.54139639e-06]\n",
      " [9.99992459e-01 7.54139639e-06]\n",
      " [9.99992459e-01 7.54139639e-06]\n",
      " [9.99992459e-01 7.54139639e-06]\n",
      " [9.99992459e-01 7.54139639e-06]\n",
      " [9.99992459e-01 7.54139639e-06]\n",
      " [9.99992459e-01 7.54139639e-06]\n",
      " [9.99992459e-01 7.54139639e-06]\n",
      " [9.99992459e-01 7.54139639e-06]\n",
      " [9.99992459e-01 7.54139639e-06]\n",
      " [9.99992459e-01 7.54139639e-06]\n",
      " [9.99992459e-01 7.54139639e-06]\n",
      " [9.99992459e-01 7.54139639e-06]\n",
      " [9.99992459e-01 7.54139639e-06]\n",
      " [9.99992459e-01 7.54139639e-06]\n",
      " [9.99992459e-01 7.54139639e-06]\n",
      " [9.99992459e-01 7.54139639e-06]\n",
      " [9.99992459e-01 7.54139639e-06]\n",
      " [9.99992459e-01 7.54139639e-06]\n",
      " [9.99992459e-01 7.54139639e-06]\n",
      " [9.99992459e-01 7.54139639e-06]\n",
      " [9.99992459e-01 7.54139639e-06]\n",
      " [9.99992459e-01 7.54139639e-06]\n",
      " [9.99992459e-01 7.54139639e-06]\n",
      " [9.99992459e-01 7.54139639e-06]\n",
      " [9.99992459e-01 7.54139639e-06]\n",
      " [9.99992459e-01 7.54139639e-06]\n",
      " [9.99992459e-01 7.54139639e-06]\n",
      " [9.99992459e-01 7.54139639e-06]\n",
      " [9.99992459e-01 7.54139639e-06]\n",
      " [9.99992459e-01 7.54139639e-06]\n",
      " [9.99992459e-01 7.54139639e-06]\n",
      " [9.99992459e-01 7.54139639e-06]\n",
      " [9.99992459e-01 7.54139639e-06]\n",
      " [9.99992459e-01 7.54139639e-06]\n",
      " [9.99992459e-01 7.54139639e-06]\n",
      " [9.99992459e-01 7.54139639e-06]\n",
      " [9.99992459e-01 7.54139639e-06]\n",
      " [9.99992459e-01 7.54139639e-06]\n",
      " [9.99992459e-01 7.54139639e-06]\n",
      " [9.99992459e-01 7.54139639e-06]\n",
      " [9.99992459e-01 7.54139639e-06]\n",
      " [9.99992459e-01 7.54139639e-06]\n",
      " [9.99992459e-01 7.54139639e-06]\n",
      " [9.99992459e-01 7.54139639e-06]\n",
      " [9.99992459e-01 7.54139639e-06]\n",
      " [9.99992459e-01 7.54139639e-06]\n",
      " [9.99992459e-01 7.54139639e-06]\n",
      " [9.99992459e-01 7.54139639e-06]\n",
      " [9.99992459e-01 7.54139639e-06]\n",
      " [9.99992459e-01 7.54139639e-06]\n",
      " [9.99992459e-01 7.54139639e-06]\n",
      " [9.99992459e-01 7.54139639e-06]\n",
      " [9.99992459e-01 7.54139639e-06]\n",
      " [9.99992459e-01 7.54139639e-06]\n",
      " [9.99992459e-01 7.54139639e-06]\n",
      " [9.99992459e-01 7.54139639e-06]\n",
      " [9.99992459e-01 7.54139639e-06]\n",
      " [9.99992459e-01 7.54139639e-06]\n",
      " [9.99992459e-01 7.54139639e-06]\n",
      " [9.99992459e-01 7.54139639e-06]\n",
      " [9.99992459e-01 7.54139639e-06]\n",
      " [9.99992459e-01 7.54139639e-06]\n",
      " [9.99992459e-01 7.54139639e-06]\n",
      " [9.99992459e-01 7.54139639e-06]\n",
      " [9.99992459e-01 7.54139639e-06]\n",
      " [9.99992459e-01 7.54139639e-06]\n",
      " [9.99992459e-01 7.54139639e-06]\n",
      " [9.99992459e-01 7.54139639e-06]\n",
      " [9.99992459e-01 7.54139639e-06]\n",
      " [9.99992459e-01 7.54139639e-06]\n",
      " [9.99992459e-01 7.54139639e-06]\n",
      " [9.99992459e-01 7.54139639e-06]\n",
      " [9.99992459e-01 7.54139639e-06]\n",
      " [9.99992459e-01 7.54139639e-06]\n",
      " [9.99992459e-01 7.54139639e-06]\n",
      " [9.99992459e-01 7.54139639e-06]\n",
      " [9.99992459e-01 7.54139639e-06]\n",
      " [9.99992459e-01 7.54139639e-06]\n",
      " [9.99992459e-01 7.54139639e-06]\n",
      " [9.99992459e-01 7.54139639e-06]\n",
      " [9.99992459e-01 7.54139639e-06]\n",
      " [9.99992459e-01 7.54139639e-06]\n",
      " [9.99992459e-01 7.54139639e-06]\n",
      " [9.99992459e-01 7.54139639e-06]\n",
      " [9.99992459e-01 7.54139639e-06]\n",
      " [9.99992459e-01 7.54139639e-06]\n",
      " [9.99992459e-01 7.54139639e-06]\n",
      " [9.99992459e-01 7.54139639e-06]\n",
      " [9.99992459e-01 7.54139639e-06]\n",
      " [9.99992459e-01 7.54139639e-06]\n",
      " [9.99992459e-01 7.54139639e-06]\n",
      " [9.99992459e-01 7.54139639e-06]\n",
      " [9.99992459e-01 7.54139639e-06]\n",
      " [9.99992459e-01 7.54139639e-06]\n",
      " [9.99992459e-01 7.54139639e-06]\n",
      " [2.21121141e-09 9.99999998e-01]\n",
      " [9.99992459e-01 7.54139639e-06]\n",
      " [9.99992459e-01 7.54139639e-06]\n",
      " [9.99992459e-01 7.54139639e-06]\n",
      " [9.99992459e-01 7.54139639e-06]\n",
      " [9.99992459e-01 7.54139639e-06]\n",
      " [9.98883270e-01 1.11673001e-03]\n",
      " [9.99992459e-01 7.54139639e-06]\n",
      " [9.99992459e-01 7.54139639e-06]\n",
      " [9.99992459e-01 7.54139639e-06]\n",
      " [9.99992459e-01 7.54139639e-06]\n",
      " [9.99992459e-01 7.54139639e-06]\n",
      " [9.99992459e-01 7.54139639e-06]\n",
      " [9.99992459e-01 7.54139639e-06]\n",
      " [9.99992459e-01 7.54139639e-06]\n",
      " [9.99992459e-01 7.54139639e-06]\n",
      " [9.99992459e-01 7.54139639e-06]\n",
      " [9.99992459e-01 7.54139639e-06]\n",
      " [9.99992459e-01 7.54139639e-06]\n",
      " [9.99992459e-01 7.54139639e-06]\n",
      " [9.99992459e-01 7.54139639e-06]\n",
      " [9.99992459e-01 7.54139639e-06]\n",
      " [9.99992459e-01 7.54139639e-06]\n",
      " [9.99992459e-01 7.54139639e-06]\n",
      " [9.99992459e-01 7.54139639e-06]\n",
      " [9.99992459e-01 7.54139639e-06]\n",
      " [9.99992459e-01 7.54139639e-06]\n",
      " [9.99992459e-01 7.54139639e-06]\n",
      " [9.99992459e-01 7.54139639e-06]\n",
      " [9.99992459e-01 7.54139639e-06]\n",
      " [9.99992459e-01 7.54139639e-06]\n",
      " [9.99992459e-01 7.54139639e-06]\n",
      " [9.99992459e-01 7.54139639e-06]\n",
      " [9.99992459e-01 7.54139639e-06]\n",
      " [9.99992459e-01 7.54139639e-06]\n",
      " [9.99992459e-01 7.54139639e-06]\n",
      " [9.99992459e-01 7.54139639e-06]\n",
      " [9.99992459e-01 7.54139639e-06]\n",
      " [9.99992459e-01 7.54139639e-06]\n",
      " [9.99992459e-01 7.54139639e-06]\n",
      " [9.99992459e-01 7.54139639e-06]\n",
      " [9.99992459e-01 7.54139639e-06]\n",
      " [9.99992459e-01 7.54139639e-06]\n",
      " [9.99992459e-01 7.54139639e-06]\n",
      " [9.99992459e-01 7.54139639e-06]\n",
      " [9.99992459e-01 7.54139639e-06]\n",
      " [9.99992459e-01 7.54139639e-06]\n",
      " [9.99992459e-01 7.54139639e-06]\n",
      " [9.99992459e-01 7.54139639e-06]\n",
      " [9.99992459e-01 7.54139639e-06]\n",
      " [9.99992459e-01 7.54139639e-06]\n",
      " [9.99992459e-01 7.54139639e-06]\n",
      " [9.99992459e-01 7.54139639e-06]\n",
      " [9.99992459e-01 7.54139639e-06]\n",
      " [9.99992459e-01 7.54139639e-06]\n",
      " [9.99992459e-01 7.54139639e-06]\n",
      " [9.99992459e-01 7.54139639e-06]\n",
      " [9.99992459e-01 7.54139639e-06]\n",
      " [9.99992459e-01 7.54139639e-06]\n",
      " [9.99992459e-01 7.54139639e-06]\n",
      " [9.99992459e-01 7.54139639e-06]\n",
      " [9.99992459e-01 7.54139639e-06]\n",
      " [9.99992459e-01 7.54139639e-06]\n",
      " [9.99992459e-01 7.54139639e-06]\n",
      " [9.99992459e-01 7.54139639e-06]\n",
      " [9.99992459e-01 7.54139639e-06]\n",
      " [9.99992459e-01 7.54139639e-06]\n",
      " [9.99992459e-01 7.54139639e-06]\n",
      " [9.99992459e-01 7.54139639e-06]\n",
      " [9.99992459e-01 7.54139639e-06]\n",
      " [9.99992459e-01 7.54139639e-06]\n",
      " [9.99992459e-01 7.54139639e-06]\n",
      " [9.99992459e-01 7.54139639e-06]\n",
      " [9.99992459e-01 7.54139639e-06]\n",
      " [9.99992459e-01 7.54139639e-06]\n",
      " [9.99992459e-01 7.54139639e-06]\n",
      " [9.99992459e-01 7.54139639e-06]\n",
      " [9.99992459e-01 7.54139639e-06]\n",
      " [9.99992459e-01 7.54139639e-06]\n",
      " [9.99992459e-01 7.54139639e-06]\n",
      " [9.99992459e-01 7.54139639e-06]\n",
      " [9.99992459e-01 7.54139639e-06]\n",
      " [9.99992459e-01 7.54139639e-06]\n",
      " [9.99992459e-01 7.54139639e-06]\n",
      " [9.99992459e-01 7.54139639e-06]\n",
      " [9.99992459e-01 7.54139639e-06]\n",
      " [9.99992459e-01 7.54139639e-06]\n",
      " [9.99992459e-01 7.54139639e-06]\n",
      " [9.99992459e-01 7.54139639e-06]\n",
      " [9.99992459e-01 7.54139639e-06]\n",
      " [9.99992459e-01 7.54139639e-06]\n",
      " [9.99992459e-01 7.54139639e-06]\n",
      " [9.99992459e-01 7.54139639e-06]\n",
      " [9.99992459e-01 7.54139639e-06]\n",
      " [9.99992459e-01 7.54139639e-06]\n",
      " [9.99992459e-01 7.54139639e-06]\n",
      " [9.99992459e-01 7.54139639e-06]\n",
      " [9.99992459e-01 7.54139639e-06]\n",
      " [9.99992459e-01 7.54139639e-06]\n",
      " [9.99992459e-01 7.54139639e-06]\n",
      " [9.99992459e-01 7.54139639e-06]\n",
      " [9.99992459e-01 7.54139639e-06]\n",
      " [9.99992459e-01 7.54139639e-06]\n",
      " [9.99992459e-01 7.54139639e-06]]\n"
     ]
    }
   ],
   "source": [
    "print(Classes)"
   ]
  },
  {
   "cell_type": "code",
   "execution_count": 61,
   "metadata": {},
   "outputs": [
    {
     "name": "stdout",
     "output_type": "stream",
     "text": [
      "[0 0 0 0 0 0 0 0 0 0 0 0 0 0 0 0 0 0 0 0 0 0 0 0 0 0 0 0 0 0 0 0 0 0 0 0 0\n",
      " 0 0 0 0 0 0 0 0 0 0 0 0 0 0 0 0 0 0 0 0 0 0 0 0 0 0 0 0 0 0 0 0 0 0 0 0 0\n",
      " 0 0 0 0 0 0 0 0 0 0 0 0 0 0 0 0 0 0 0 0 0 0 0 0 0 0 0 0 0 0 0 0 0 0 0 0 0\n",
      " 0 0 0 0 0 0 0 0 0 0 0 0 0 0 0 0 0 0 0 0 0 0 0 0 0 0 0 0 0 0 0 0 0 0 0 0 0\n",
      " 0 0 0 0 0 0 0 0 0 0 0 0 0 0 0 0 0 0 0 0 0 0 0 0 0 0 0 0 0 0 0 0 0 0 0 0 0\n",
      " 0 0 0 0 0 0 0 0 0 0 0 0 0 0 0 0 0 0 0 0 0 0 0 0 0 0 0 0 0 0 0 0 0 0 0 0 0\n",
      " 0 0 0 0 0 0 0 0 0 0 0 0 0 0 0 0 0 0 0 0 0 0 0 0 0 0 0 0 0 0 0 0 0 0 0 0 0\n",
      " 0 0 0 0 0 0 0 0 0 0 0 0 0 0 0 0 0 0 0 0 0 0 0 0 0 0 0 0 0 0 0 0 0 0 0 0 0\n",
      " 1 0 0 0 0 0 0 0 0 0 0 0 0 0 0 0 0 0 0 0 0 0 0 0 0 0 0 0 0 0 0 0 0 0 0 0 0\n",
      " 0 0 0 0 0 0 0 0 0 0 0 0 0 0 0 0 0 0 0 0 0 0 0 0 0 0 0 0 0 0 0 0 0 0 0 0 0\n",
      " 0 0 0 0 0 0 0 0 0 0 0 0 0 0 0 0 0 0 0 0 0 0 0 0 0 0 0 0 0 0]\n"
     ]
    }
   ],
   "source": [
    "print(Z)"
   ]
  },
  {
   "cell_type": "code",
   "execution_count": 62,
   "metadata": {},
   "outputs": [
    {
     "data": {
      "image/png": "[encoded data removed]",
      "text/plain": [
       "<Figure size 432x288 with 1 Axes>"
      ]
     },
     "metadata": {
      "needs_background": "light"
     },
     "output_type": "display_data"
    }
   ],
   "source": [
    "plt.plot(Classes)\n",
    "plt.show()"
   ]
  },
  {
   "cell_type": "code",
   "execution_count": 63,
   "metadata": {},
   "outputs": [
    {
     "name": "stdout",
     "output_type": "stream",
     "text": [
      "Accuracy:  53.33325 %\n"
     ]
    },
    {
     "data": {
      "image/png": "[encoded data removed]",
      "text/plain": [
       "<Figure size 432x288 with 1 Axes>"
      ]
     },
     "metadata": {
      "needs_background": "light"
     },
     "output_type": "display_data"
    }
   ],
   "source": [
    "plt.plot(T_test)\n",
    "plt.plot(Z)\n",
    "print(\"Accuracy: \", 100 - np.mean(np.abs(T_test - Z)) * 100, \"%\")"
   ]
  },
  {
   "cell_type": "code",
   "execution_count": 64,
   "metadata": {},
   "outputs": [
    {
     "data": {
      "text/plain": [
       "Text(0.5, 1.0, 'Decision Boundary')"
      ]
     },
     "execution_count": 64,
     "metadata": {},
     "output_type": "execute_result"
    },
    {
     "data": {
      "image/png": "[encoded data removed]",
      "text/plain": [
       "<Figure size 432x432 with 1 Axes>"
      ]
     },
     "metadata": {
      "needs_background": "light"
     },
     "output_type": "display_data"
    }
   ],
   "source": [
    "xs, ys = np.meshgrid(np.linspace(0,8000, 20), np.linspace(-1,800000, 20))\n",
    "plt.figure(figsize=(6,6))\n",
    "plt.contourf(xs, ys, (np.sort(Z>0).reshape(xs.shape)))\n",
    "plt.title(\"Decision Boundary\")"
   ]
  },
  {
   "cell_type": "markdown",
   "metadata": {},
   "source": [
    "#### Explanation of code Nonlinear Logistic regression \n",
    "\n",
    "# Neural Net Logistic Regression Class\n",
    "\n",
    "Standardizer is a class that normalizes the numeric values of the dataset.\n",
    "Importing the NeuralNet class will basically import the major functions to be used. The addition will be the non-linearity at the end of the neural network.\n",
    "\n",
    "init () : This function inherits the same initialization class as NeuralNet\n",
    " \n",
    "forward() : It inherits the same initialization class.\n",
    "\n",
    "softmax : returns the probability of the classes. It is same as we used for Logistic Regression Assignment 2. \n",
    "\n",
    "object_f : It calculates the error by the log function. It also takes care of the the Y not being 0 by adding a small possible() value(epsilon) to it because log of 0 is not defined. This function is used to apply penalty to the model. \n",
    "\n",
    "train() : It pre-processes the inputs and then trains it. This function is also recursive function which calls itself. The target data that is being passed to this function is an indicator matrix which represents of the classes of the data in separate columns. This function takes X, T and other parameters as inputs. Uses Standardizer from util file to normalize the input and Target values  if needed.\n",
    "\n",
    "use() :This function used trained network to predict.\n",
    "\n",
    "#### Examination of correct implementation \n",
    "\n",
    "- The random train and test data is generated with numpy.\n",
    "- It is normalized with mean and standard deviation.\n",
    "- A neural network is trained on the same random train data with NeuralNetLogReg with 5 epochs and neurons [9,4,2].\n",
    "- With use function, prediction is performed on test data.\n",
    "- The boundary line is also visualized for the test data."
   ]
  },
  {
   "cell_type": "markdown",
   "metadata": {},
   "source": [
    "# IV - Results\n",
    "\n",
    "- Presents the results of comparison of the tested models with CV errors.\n",
    "- Visualize the results \n",
    "- What do you think about the results? \n",
    "\n",
    "## Presentation of CV Results"
   ]
  },
  {
   "cell_type": "markdown",
   "metadata": {},
   "source": [
    "#### Cross validation code for nonlinear logistic regression "
   ]
  },
  {
   "cell_type": "code",
   "execution_count": 65,
   "metadata": {},
   "outputs": [],
   "source": [
    "from sklearn.metrics import mean_squared_error\n",
    "from nn import NeuralNet"
   ]
  },
  {
   "cell_type": "code",
   "execution_count": 66,
   "metadata": {},
   "outputs": [],
   "source": [
    "def k_split(s):\n",
    "    avg = len(s) / 5.0\n",
    "    out = []\n",
    "    last = 0.0\n",
    "    while last < len(s):\n",
    "        out.append(s[int(last):int(last + avg)])\n",
    "        last += avg\n",
    "    return out"
   ]
  },
  {
   "cell_type": "code",
   "execution_count": 67,
   "metadata": {},
   "outputs": [],
   "source": [
    "final_list = []\n",
    "best_paramlist = []"
   ]
  },
  {
   "cell_type": "code",
   "execution_count": 68,
   "metadata": {},
   "outputs": [],
   "source": [
    "from sklearn.metrics import f1_score"
   ]
  },
  {
   "cell_type": "code",
   "execution_count": 69,
   "metadata": {},
   "outputs": [],
   "source": [
    "def cross_validate(X, y, parameters):\n",
    "    \n",
    "    X_partitioned = k_split(X)\n",
    "    y_partitioned = k_split(y)\n",
    "    \n",
    "    for test in range(5): \n",
    "        \n",
    "        X_test = X_partitioned[test]\n",
    "        y_test = y_partitioned[test]\n",
    "        \n",
    "        j = 0\n",
    "        \n",
    "        total_history_rmse = []\n",
    "        params = []\n",
    "        \n",
    "        for val in range(5): \n",
    "            \n",
    "            if test == val: \n",
    "                continue\n",
    "            \n",
    "            X_val = X_partitioned[val]\n",
    "            y_val = y_partitioned[val]\n",
    "            \n",
    "            X_train = X_partitioned[not test and not val]\n",
    "            y_train = y_partitioned[not test and not val]\n",
    "            \n",
    "            i = 0\n",
    "            flist = []\n",
    "            paramlist = []\n",
    "            \n",
    "            for param in parameters:\n",
    "                \n",
    "                neural_net_lr = NeuralNetLogReg(param)\n",
    "                neural_net_lr.train(X_train, y_train)\n",
    "                prob, pred = neural_net_lr.use(X_val)\n",
    "                y_val1 = y_val[:,0]\n",
    "                y_val1 = np.where(y_val1 == 0,1,0)\n",
    "                val_Acc = f1_score(y_val1, pred)\n",
    "                flist.append(val_Acc)\n",
    "                paramlist.append(param)\n",
    "            \n",
    "            total_history_rmse.append(max(flist))\n",
    "            params.append(paramlist[np.argmax(flist)])\n",
    "        \n",
    "        best_param = params[np.argmax(total_history_rmse)]\n",
    "        best_model = NeuralNetLogReg(best_param)\n",
    "        \n",
    "        X_train = X_partitioned[not test]\n",
    "        y_train = y_partitioned[not test]\n",
    "        best_model.train(X_train, y_train)\n",
    "\n",
    "        prob1, final_pred = best_model.use(X_test)\n",
    "        \n",
    "        y_test1 = y_test[:,0]\n",
    "        y_test1 = np.where(y_test1 == 0,1,0)\n",
    "        \n",
    "        score_f1 = f1_score(y_test1, final_pred)\n",
    "        final_list.append(score_f1)\n",
    "        best_paramlist.append(best_param)\n",
    "\n",
    "    return final_list, best_paramlist"
   ]
  },
  {
   "cell_type": "markdown",
   "metadata": {},
   "source": [
    "## Plots for Result"
   ]
  },
  {
   "cell_type": "markdown",
   "metadata": {},
   "source": [
    "* 9 input parameters of Bank Data "
   ]
  },
  {
   "cell_type": "code",
   "execution_count": 70,
   "metadata": {},
   "outputs": [],
   "source": [
    "models = [[9,3,2],[9,5,2],[9,7,2], [9,10,2], [9,12,2]]\n",
    "best_accuracy, best_param = cross_validate(np.array(X_train), np.array(T), models)"
   ]
  },
  {
   "cell_type": "code",
   "execution_count": 71,
   "metadata": {},
   "outputs": [
    {
     "data": {
      "text/plain": [
       "[0.6582491582491583,\n",
       " 0.6550994498518832,\n",
       " 0.612565445026178,\n",
       " 0.637062339880444,\n",
       " 0.0]"
      ]
     },
     "execution_count": 71,
     "metadata": {},
     "output_type": "execute_result"
    }
   ],
   "source": [
    "best_accuracy"
   ]
  },
  {
   "cell_type": "code",
   "execution_count": 72,
   "metadata": {},
   "outputs": [
    {
     "name": "stdout",
     "output_type": "stream",
     "text": [
      "[0.004971772328953926, 0.002471793776092538, 0.0019975558819681732, 0.00488920073380127, 0.034901495158173486] [[6, 5, 1], [6, 3, 1], [6, 3, 1], [6, 5, 1], [6, 5, 1]]\n"
     ]
    }
   ],
   "source": [
    "print(bestAccuracy,bestParam)"
   ]
  },
  {
   "cell_type": "code",
   "execution_count": 73,
   "metadata": {},
   "outputs": [],
   "source": [
    "# Selecting the best parameter and applying\n",
    "obj_log = NeuralNetLogReg([9, 3, 2])\n",
    "obj_log.train(X_train, T_train)\n",
    "Z,Classes = obj_log.use(X_test[0:400])"
   ]
  },
  {
   "cell_type": "code",
   "execution_count": 74,
   "metadata": {},
   "outputs": [
    {
     "data": {
      "text/plain": [
       "[<matplotlib.lines.Line2D at 0x1a1c70eda0>,\n",
       " <matplotlib.lines.Line2D at 0x1a1c70ef28>]"
      ]
     },
     "execution_count": 74,
     "metadata": {},
     "output_type": "execute_result"
    },
    {
     "data": {
      "image/png": "[encoded data removed]",
      "text/plain": [
       "<Figure size 432x288 with 1 Axes>"
      ]
     },
     "metadata": {
      "needs_background": "light"
     },
     "output_type": "display_data"
    }
   ],
   "source": [
    "plt.plot(Z)"
   ]
  },
  {
   "cell_type": "code",
   "execution_count": 75,
   "metadata": {},
   "outputs": [
    {
     "name": "stdout",
     "output_type": "stream",
     "text": [
      "(2000, 1)\n",
      "Accuracy for neural network logistic regression:  50.0 %\n"
     ]
    },
    {
     "data": {
      "image/png": "[encoded data removed]",
      "text/plain": [
       "<Figure size 432x288 with 1 Axes>"
      ]
     },
     "metadata": {
      "needs_background": "light"
     },
     "output_type": "display_data"
    }
   ],
   "source": [
    "print(T_test.shape)\n",
    "plt.plot(T_test[0:400])\n",
    "plt.plot(Z)\n",
    "print(\"Accuracy for neural network logistic regression: \", 100 - np.mean(np.abs(T_test[0:400] - Z)) * 100, \"%\")"
   ]
  },
  {
   "cell_type": "code",
   "execution_count": 76,
   "metadata": {},
   "outputs": [
    {
     "data": {
      "text/plain": [
       "Text(0.5, 1.0, 'Decision Boundary')"
      ]
     },
     "execution_count": 76,
     "metadata": {},
     "output_type": "execute_result"
    },
    {
     "data": {
      "image/png": "[encoded data removed]",
      "text/plain": [
       "<Figure size 432x432 with 1 Axes>"
      ]
     },
     "metadata": {
      "needs_background": "light"
     },
     "output_type": "display_data"
    }
   ],
   "source": [
    "xs, ys = np.meshgrid(np.linspace(0,8000, 20), np.linspace(-1,800000, 20))\n",
    "plt.figure(figsize=(6,6))\n",
    "plt.contourf(xs, ys, (np.sort(Classes>0).reshape(xs.shape)))\n",
    "plt.title(\"Decision Boundary\")"
   ]
  },
  {
   "cell_type": "markdown",
   "metadata": {},
   "source": [
    "## Discussions about parameter/network structure choice"
   ]
  },
  {
   "cell_type": "markdown",
   "metadata": {},
   "source": [
    "This assignment consists of built 5 layer neural network. Input layer has 9 nodes because there are 9 features in my data that are actually useful. Output layer has 2 node. \n",
    "\n",
    "I've not only used 5 layers. But I repeated the process with many layers and it was interesting to find that as the layers increase it gives better results and it keeps on improving with more layers. This might not be true because it might lead to over fitting of data. My data is skewed.\n",
    "\n",
    "I tried for the best network structure by changing the number of nodes in hidden layer. I performed 5 fold cross validation by passing my models variable as[[9,3,2],[9,5,2],[9,7,2], [9,10,2], [9,12,2]]. Here first value represents input nodes, second value represents nodes in hidden layer, third value represents output nodes. \n",
    "\n",
    "From the results of cross validation we can see that model [9,3,2] has appeared more number of times.Accuracy is 50%\n",
    "\n",
    "#### Logistic Regression\n",
    "- Learning rate: \n",
    "    - Depending upon the learning rate, the Logistic Regression Model will perform.\n",
    "    - If learning rate is too small, then accuracy will be increased but model will take long time to be trained.\n",
    "    - If the learning rate is high, then the model may overshoot the minimum and will never reach to a good accuracy.\n",
    "    - There should be a reasonable trade off between the speed of training and accuracy while choosing the learning rate.\n",
    "\n",
    "#### Non-linear Neural Network\n",
    "- Network Structure Choice:\n",
    "    - The descending number of neurons in the structure gives the good accuracy and lesser loss\n",
    "    - Number of Epochs: As the number of epochs increases, the model is trained more number of times and increases the accuracy of the model. But it also has a trade of that number of Epochs should be such value that it doesn't over fit the model. Currently I am training on 5 epochs."
   ]
  },
  {
   "cell_type": "markdown",
   "metadata": {},
   "source": [
    "## Discussion about the prediction results. Try to analyze what nonlinear regression model learned.\n",
    "- By comparing the accuracy of both the models, it is proven that Non-linear neural network performs better than logistic regression. \n",
    "- Logistic regression is not flexible in terms of the parameters to be adjusted. While non-linear neural network's accuracy can be improved by adjusting number of neurons and activation functions. \n",
    "- This shows that non-linear Neural Network is having a linear boundary. This shows that non-linear Neural Network gives the better results if the data is not skewed.\n",
    "- From the accuracy it can be concluded that, non-linear Neural Network works better than Logistic Regression for the classification purpose. \n",
    "- Non-linear Neural network has much more flexibility in terms of parameters. Plus, neural network is widely used in the industry for the classification purpose. It can be even used for the multi-class classification. But the sigmoid function at the end makes it work only for the binary classification.\n",
    "- The selection of the algorithm also depends on the data. My data is of Bank-marketing is skewed."
   ]
  },
  {
   "cell_type": "markdown",
   "metadata": {},
   "source": [
    "# Conclusions\n",
    "\n",
    "In this Assignment I have learned to implement Neural networks.I also learned implementing k fold cross validation from scratch with out using any libraries, following selecting the parameters. And I learned that sometimes increasing number of layers may not always improve the model since there is a case where it may overfit and also it increases the computation time. \n",
    "\n",
    "\n",
    "Challenges: Implementation of Cross validation was really tough for me. Also while understanding the professor's code from the given zip was difficult."
   ]
  },
  {
   "cell_type": "markdown",
   "metadata": {},
   "source": [
    "## References\n"
   ]
  },
  {
   "cell_type": "markdown",
   "metadata": {},
   "source": [
    "1.https://nbviewer.jupyter.org/url/webpages.uncc.edu/mlee173/teach/itcs6156/notebooks/slides/ML%20Methodology.ipynb\n",
    "2.https://www.investopedia.com/terms/n/nonlinear-regression.asp\n",
    "3.https://nbviewer.jupyter.org/url/webpages.uncc.edu/mlee173/teach/itcs6156/notebooks/notes/Note-Neural%20Networks.sol.ipynb4. Linear Classification Notes, 4.https://nbviewer.jupyter.org/url/webpages.uncc.edu/mlee173/teach/itcs6156/notebooks/notes/Note-Linear%20Classification.Sol.ipynb\n",
    "5.https://www.investopedia.com/terms/n/nonlinear-regression.asp"
   ]
  },
  {
   "cell_type": "markdown",
   "metadata": {},
   "source": [
    "# Extra Credit\n",
    "\n",
    "Now you are testing various **activation functions** in this section. Use the best neural network structure and explore 3 different activation functions of your choice (one should be *tanh* that you used in the previous sections). \n",
    "You should use cross validation to discover the best model (with activation function). \n",
    "\n",
    "\n",
    "One extra credit is assigned when you finish the work completely. \n"
   ]
  },
  {
   "cell_type": "markdown",
   "metadata": {},
   "source": [
    "# How to start?\n",
    "\n",
    "* Download [a3.tgz](http://webpages.uncc.edu/mlee173/teach/itcs6156/notebooks/assign/a3.tgz). \n",
    "* Unzip the python files to current working directory.\n",
    "* Import the necessary classes or functions including NeuralNet."
   ]
  },
  {
   "cell_type": "markdown",
   "metadata": {},
   "source": [
    "## Grading\n",
    "\n",
    "DO NOT forget to submit your data! Your notebook is supposed to run fine after running your codes. \n",
    "\n",
    "** Note: this is a WRITING assignment. Proper writing is REQUIRED. Comments are not considered as writing. ** \n",
    "\n",
    "\n",
    "points | | description\n",
    "--|--|:--\n",
    "5 | Overview| states the objective and the appraoch \n",
    "10 | Data | \n",
    " | 2| Includes description of your data\n",
    " | 3| Plots to visualize data \n",
    " | 5| Reading and analyzing the plots \n",
    "40 | Methods | \n",
    " | 10| Summary of CV & correctness of implementation\n",
    " | 5| Summary of nonlinear regression \n",
    " | 5| Explanation of codes\n",
    " | 5| Summary of nonlinear logistic regression \n",
    " | 5| Explanation of codes\n",
    " |10| Examination of correct implementation (NonlinearLogReg) with toy data.\n",
    "40 | Results | Your Data\n",
    "| 10| Presentaion of CV results\n",
    "| 10| Discussions about parameter/network structure choice \n",
    "| 10| plots for results\n",
    "| 10| Discussion about the prediction results. Try to analyze what nonlinear regression model learned. \n",
    "5 | Conclusions \n"
   ]
  },
  {
   "cell_type": "markdown",
   "metadata": {},
   "source": [
    "1. https://nbviewer.jupyter.org/url/webpages.uncc.edu/mlee173/teach/itcs6156/notebooks/slides/ML%20Methodology.ipynb\n",
    "2. https://www.investopedia.com/terms/n/nonlinear-regression.asp"
   ]
  }
 ],
 "metadata": {
  "kernelspec": {
   "display_name": "Python 3",
   "language": "python",
   "name": "python3"
  },
  "language_info": {
   "codemirror_mode": {
    "name": "ipython",
    "version": 3
   },
   "file_extension": ".py",
   "mimetype": "text/x-python",
   "name": "python",
   "nbconvert_exporter": "python",
   "pygments_lexer": "ipython3",
   "version": "3.7.3"
  }
 },
 "nbformat": 4,
 "nbformat_minor": 2
}
